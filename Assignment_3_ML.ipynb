{
  "cells": [
    {
      "cell_type": "markdown",
      "metadata": {
        "id": "view-in-github",
        "colab_type": "text"
      },
      "source": [
        "<a href=\"https://colab.research.google.com/github/anuj2001/Machine_Learning/blob/main/Assignment_3_ML.ipynb\" target=\"_parent\"><img src=\"https://colab.research.google.com/assets/colab-badge.svg\" alt=\"Open In Colab\"/></a>"
      ]
    },
    {
      "cell_type": "code",
      "execution_count": null,
      "id": "d19e694d",
      "metadata": {
        "id": "d19e694d"
      },
      "outputs": [],
      "source": [
        "import pandas as pd\n",
        "import numpy as np\n",
        "import seaborn as sns\n",
        "import matplotlib.pyplot as plt"
      ]
    },
    {
      "cell_type": "code",
      "execution_count": null,
      "id": "02e08c0b",
      "metadata": {
        "id": "02e08c0b",
        "outputId": "4e7f70f2-8cf4-442b-e571-2c1c272ba9dd"
      },
      "outputs": [
        {
          "data": {
            "text/html": [
              "<div>\n",
              "<style scoped>\n",
              "    .dataframe tbody tr th:only-of-type {\n",
              "        vertical-align: middle;\n",
              "    }\n",
              "\n",
              "    .dataframe tbody tr th {\n",
              "        vertical-align: top;\n",
              "    }\n",
              "\n",
              "    .dataframe thead th {\n",
              "        text-align: right;\n",
              "    }\n",
              "</style>\n",
              "<table border=\"1\" class=\"dataframe\">\n",
              "  <thead>\n",
              "    <tr style=\"text-align: right;\">\n",
              "      <th></th>\n",
              "      <th>Avg. Area Income</th>\n",
              "      <th>Avg. Area House Age</th>\n",
              "      <th>Avg. Area Number of Rooms</th>\n",
              "      <th>Avg. Area Number of Bedrooms</th>\n",
              "      <th>Area Population</th>\n",
              "      <th>Price</th>\n",
              "    </tr>\n",
              "  </thead>\n",
              "  <tbody>\n",
              "    <tr>\n",
              "      <th>0</th>\n",
              "      <td>79545.45857</td>\n",
              "      <td>5.682861</td>\n",
              "      <td>7.009188</td>\n",
              "      <td>4.09</td>\n",
              "      <td>23086.80050</td>\n",
              "      <td>1.059034e+06</td>\n",
              "    </tr>\n",
              "    <tr>\n",
              "      <th>1</th>\n",
              "      <td>79248.64245</td>\n",
              "      <td>6.002900</td>\n",
              "      <td>6.730821</td>\n",
              "      <td>3.09</td>\n",
              "      <td>40173.07217</td>\n",
              "      <td>1.505891e+06</td>\n",
              "    </tr>\n",
              "    <tr>\n",
              "      <th>2</th>\n",
              "      <td>61287.06718</td>\n",
              "      <td>5.865890</td>\n",
              "      <td>8.512727</td>\n",
              "      <td>5.13</td>\n",
              "      <td>36882.15940</td>\n",
              "      <td>1.058988e+06</td>\n",
              "    </tr>\n",
              "    <tr>\n",
              "      <th>3</th>\n",
              "      <td>63345.24005</td>\n",
              "      <td>7.188236</td>\n",
              "      <td>5.586729</td>\n",
              "      <td>3.26</td>\n",
              "      <td>34310.24283</td>\n",
              "      <td>1.260617e+06</td>\n",
              "    </tr>\n",
              "    <tr>\n",
              "      <th>4</th>\n",
              "      <td>59982.19723</td>\n",
              "      <td>5.040555</td>\n",
              "      <td>7.839388</td>\n",
              "      <td>4.23</td>\n",
              "      <td>26354.10947</td>\n",
              "      <td>6.309435e+05</td>\n",
              "    </tr>\n",
              "  </tbody>\n",
              "</table>\n",
              "</div>"
            ],
            "text/plain": [
              "   Avg. Area Income  Avg. Area House Age  Avg. Area Number of Rooms  \\\n",
              "0       79545.45857             5.682861                   7.009188   \n",
              "1       79248.64245             6.002900                   6.730821   \n",
              "2       61287.06718             5.865890                   8.512727   \n",
              "3       63345.24005             7.188236                   5.586729   \n",
              "4       59982.19723             5.040555                   7.839388   \n",
              "\n",
              "   Avg. Area Number of Bedrooms  Area Population         Price  \n",
              "0                          4.09      23086.80050  1.059034e+06  \n",
              "1                          3.09      40173.07217  1.505891e+06  \n",
              "2                          5.13      36882.15940  1.058988e+06  \n",
              "3                          3.26      34310.24283  1.260617e+06  \n",
              "4                          4.23      26354.10947  6.309435e+05  "
            ]
          },
          "execution_count": 2,
          "metadata": {},
          "output_type": "execute_result"
        }
      ],
      "source": [
        "data = pd.read_csv('C:/Users/Anuj/Downloads/USA_Housing.csv')\n",
        "data.head()"
      ]
    },
    {
      "cell_type": "code",
      "execution_count": null,
      "id": "f09736d7",
      "metadata": {
        "id": "f09736d7",
        "outputId": "56770444-e58a-4eae-ecf6-a221563b569d"
      },
      "outputs": [
        {
          "data": {
            "text/plain": [
              "(5000, 6)"
            ]
          },
          "execution_count": 3,
          "metadata": {},
          "output_type": "execute_result"
        }
      ],
      "source": [
        "data.shape"
      ]
    },
    {
      "cell_type": "code",
      "execution_count": null,
      "id": "b4cfd6e0",
      "metadata": {
        "id": "b4cfd6e0"
      },
      "outputs": [],
      "source": [
        "from sklearn.model_selection import train_test_split\n",
        "from sklearn.preprocessing import StandardScaler"
      ]
    },
    {
      "cell_type": "code",
      "execution_count": null,
      "id": "d4464341",
      "metadata": {
        "id": "d4464341",
        "outputId": "c3ae8652-82a8-496b-91cf-7dd30479fdbb"
      },
      "outputs": [
        {
          "data": {
            "text/html": [
              "<div>\n",
              "<style scoped>\n",
              "    .dataframe tbody tr th:only-of-type {\n",
              "        vertical-align: middle;\n",
              "    }\n",
              "\n",
              "    .dataframe tbody tr th {\n",
              "        vertical-align: top;\n",
              "    }\n",
              "\n",
              "    .dataframe thead th {\n",
              "        text-align: right;\n",
              "    }\n",
              "</style>\n",
              "<table border=\"1\" class=\"dataframe\">\n",
              "  <thead>\n",
              "    <tr style=\"text-align: right;\">\n",
              "      <th></th>\n",
              "      <th>Avg. Area Income</th>\n",
              "      <th>Avg. Area House Age</th>\n",
              "      <th>Avg. Area Number of Rooms</th>\n",
              "      <th>Avg. Area Number of Bedrooms</th>\n",
              "      <th>Area Population</th>\n",
              "    </tr>\n",
              "  </thead>\n",
              "  <tbody>\n",
              "    <tr>\n",
              "      <th>0</th>\n",
              "      <td>79545.45857</td>\n",
              "      <td>5.682861</td>\n",
              "      <td>7.009188</td>\n",
              "      <td>4.09</td>\n",
              "      <td>23086.80050</td>\n",
              "    </tr>\n",
              "    <tr>\n",
              "      <th>1</th>\n",
              "      <td>79248.64245</td>\n",
              "      <td>6.002900</td>\n",
              "      <td>6.730821</td>\n",
              "      <td>3.09</td>\n",
              "      <td>40173.07217</td>\n",
              "    </tr>\n",
              "    <tr>\n",
              "      <th>2</th>\n",
              "      <td>61287.06718</td>\n",
              "      <td>5.865890</td>\n",
              "      <td>8.512727</td>\n",
              "      <td>5.13</td>\n",
              "      <td>36882.15940</td>\n",
              "    </tr>\n",
              "    <tr>\n",
              "      <th>3</th>\n",
              "      <td>63345.24005</td>\n",
              "      <td>7.188236</td>\n",
              "      <td>5.586729</td>\n",
              "      <td>3.26</td>\n",
              "      <td>34310.24283</td>\n",
              "    </tr>\n",
              "    <tr>\n",
              "      <th>4</th>\n",
              "      <td>59982.19723</td>\n",
              "      <td>5.040555</td>\n",
              "      <td>7.839388</td>\n",
              "      <td>4.23</td>\n",
              "      <td>26354.10947</td>\n",
              "    </tr>\n",
              "    <tr>\n",
              "      <th>...</th>\n",
              "      <td>...</td>\n",
              "      <td>...</td>\n",
              "      <td>...</td>\n",
              "      <td>...</td>\n",
              "      <td>...</td>\n",
              "    </tr>\n",
              "    <tr>\n",
              "      <th>4995</th>\n",
              "      <td>60567.94414</td>\n",
              "      <td>7.830362</td>\n",
              "      <td>6.137356</td>\n",
              "      <td>3.46</td>\n",
              "      <td>22837.36103</td>\n",
              "    </tr>\n",
              "    <tr>\n",
              "      <th>4996</th>\n",
              "      <td>78491.27543</td>\n",
              "      <td>6.999135</td>\n",
              "      <td>6.576763</td>\n",
              "      <td>4.02</td>\n",
              "      <td>25616.11549</td>\n",
              "    </tr>\n",
              "    <tr>\n",
              "      <th>4997</th>\n",
              "      <td>63390.68689</td>\n",
              "      <td>7.250591</td>\n",
              "      <td>4.805081</td>\n",
              "      <td>2.13</td>\n",
              "      <td>33266.14549</td>\n",
              "    </tr>\n",
              "    <tr>\n",
              "      <th>4998</th>\n",
              "      <td>68001.33124</td>\n",
              "      <td>5.534388</td>\n",
              "      <td>7.130144</td>\n",
              "      <td>5.44</td>\n",
              "      <td>42625.62016</td>\n",
              "    </tr>\n",
              "    <tr>\n",
              "      <th>4999</th>\n",
              "      <td>65510.58180</td>\n",
              "      <td>5.992305</td>\n",
              "      <td>6.792336</td>\n",
              "      <td>4.07</td>\n",
              "      <td>46501.28380</td>\n",
              "    </tr>\n",
              "  </tbody>\n",
              "</table>\n",
              "<p>5000 rows × 5 columns</p>\n",
              "</div>"
            ],
            "text/plain": [
              "      Avg. Area Income  Avg. Area House Age  Avg. Area Number of Rooms  \\\n",
              "0          79545.45857             5.682861                   7.009188   \n",
              "1          79248.64245             6.002900                   6.730821   \n",
              "2          61287.06718             5.865890                   8.512727   \n",
              "3          63345.24005             7.188236                   5.586729   \n",
              "4          59982.19723             5.040555                   7.839388   \n",
              "...                ...                  ...                        ...   \n",
              "4995       60567.94414             7.830362                   6.137356   \n",
              "4996       78491.27543             6.999135                   6.576763   \n",
              "4997       63390.68689             7.250591                   4.805081   \n",
              "4998       68001.33124             5.534388                   7.130144   \n",
              "4999       65510.58180             5.992305                   6.792336   \n",
              "\n",
              "      Avg. Area Number of Bedrooms  Area Population  \n",
              "0                             4.09      23086.80050  \n",
              "1                             3.09      40173.07217  \n",
              "2                             5.13      36882.15940  \n",
              "3                             3.26      34310.24283  \n",
              "4                             4.23      26354.10947  \n",
              "...                            ...              ...  \n",
              "4995                          3.46      22837.36103  \n",
              "4996                          4.02      25616.11549  \n",
              "4997                          2.13      33266.14549  \n",
              "4998                          5.44      42625.62016  \n",
              "4999                          4.07      46501.28380  \n",
              "\n",
              "[5000 rows x 5 columns]"
            ]
          },
          "execution_count": 5,
          "metadata": {},
          "output_type": "execute_result"
        }
      ],
      "source": [
        "X = data.drop(['Price'],axis=1)\n",
        "Y = data['Price']\n",
        "X"
      ]
    },
    {
      "cell_type": "code",
      "execution_count": null,
      "id": "63827d31",
      "metadata": {
        "id": "63827d31",
        "outputId": "4906d0b9-6cd7-4018-9d14-619495f46409"
      },
      "outputs": [
        {
          "data": {
            "text/plain": [
              "0       1.059034e+06\n",
              "1       1.505891e+06\n",
              "2       1.058988e+06\n",
              "3       1.260617e+06\n",
              "4       6.309435e+05\n",
              "            ...     \n",
              "4995    1.060194e+06\n",
              "4996    1.482618e+06\n",
              "4997    1.030730e+06\n",
              "4998    1.198657e+06\n",
              "4999    1.298950e+06\n",
              "Name: Price, Length: 5000, dtype: float64"
            ]
          },
          "execution_count": 6,
          "metadata": {},
          "output_type": "execute_result"
        }
      ],
      "source": [
        "Y"
      ]
    },
    {
      "cell_type": "markdown",
      "id": "de716766",
      "metadata": {
        "id": "de716766"
      },
      "source": [
        "## Standardization of The Dataset- Dependent Features\n"
      ]
    },
    {
      "cell_type": "code",
      "execution_count": null,
      "id": "87a2145d",
      "metadata": {
        "id": "87a2145d",
        "outputId": "5141810e-8cb5-43d9-a506-b046838e4a7a"
      },
      "outputs": [
        {
          "data": {
            "text/html": [
              "<div>\n",
              "<style scoped>\n",
              "    .dataframe tbody tr th:only-of-type {\n",
              "        vertical-align: middle;\n",
              "    }\n",
              "\n",
              "    .dataframe tbody tr th {\n",
              "        vertical-align: top;\n",
              "    }\n",
              "\n",
              "    .dataframe thead th {\n",
              "        text-align: right;\n",
              "    }\n",
              "</style>\n",
              "<table border=\"1\" class=\"dataframe\">\n",
              "  <thead>\n",
              "    <tr style=\"text-align: right;\">\n",
              "      <th></th>\n",
              "      <th>Avg. Area Income</th>\n",
              "      <th>Avg. Area House Age</th>\n",
              "      <th>Avg. Area Number of Rooms</th>\n",
              "      <th>Avg. Area Number of Bedrooms</th>\n",
              "      <th>Area Population</th>\n",
              "    </tr>\n",
              "  </thead>\n",
              "  <tbody>\n",
              "    <tr>\n",
              "      <th>0</th>\n",
              "      <td>1.028660</td>\n",
              "      <td>-0.296927</td>\n",
              "      <td>0.021274</td>\n",
              "      <td>0.088062</td>\n",
              "      <td>-1.317599</td>\n",
              "    </tr>\n",
              "    <tr>\n",
              "      <th>1</th>\n",
              "      <td>1.000808</td>\n",
              "      <td>0.025902</td>\n",
              "      <td>-0.255506</td>\n",
              "      <td>-0.722301</td>\n",
              "      <td>0.403999</td>\n",
              "    </tr>\n",
              "    <tr>\n",
              "      <th>2</th>\n",
              "      <td>-0.684629</td>\n",
              "      <td>-0.112303</td>\n",
              "      <td>1.516243</td>\n",
              "      <td>0.930840</td>\n",
              "      <td>0.072410</td>\n",
              "    </tr>\n",
              "    <tr>\n",
              "      <th>3</th>\n",
              "      <td>-0.491499</td>\n",
              "      <td>1.221572</td>\n",
              "      <td>-1.393077</td>\n",
              "      <td>-0.584540</td>\n",
              "      <td>-0.186734</td>\n",
              "    </tr>\n",
              "    <tr>\n",
              "      <th>4</th>\n",
              "      <td>-0.807073</td>\n",
              "      <td>-0.944834</td>\n",
              "      <td>0.846742</td>\n",
              "      <td>0.201513</td>\n",
              "      <td>-0.988387</td>\n",
              "    </tr>\n",
              "    <tr>\n",
              "      <th>...</th>\n",
              "      <td>...</td>\n",
              "      <td>...</td>\n",
              "      <td>...</td>\n",
              "      <td>...</td>\n",
              "      <td>...</td>\n",
              "    </tr>\n",
              "    <tr>\n",
              "      <th>4995</th>\n",
              "      <td>-0.752109</td>\n",
              "      <td>1.869297</td>\n",
              "      <td>-0.845588</td>\n",
              "      <td>-0.422467</td>\n",
              "      <td>-1.342732</td>\n",
              "    </tr>\n",
              "    <tr>\n",
              "      <th>4996</th>\n",
              "      <td>0.929740</td>\n",
              "      <td>1.030822</td>\n",
              "      <td>-0.408686</td>\n",
              "      <td>0.031337</td>\n",
              "      <td>-1.062747</td>\n",
              "    </tr>\n",
              "    <tr>\n",
              "      <th>4997</th>\n",
              "      <td>-0.487235</td>\n",
              "      <td>1.284470</td>\n",
              "      <td>-2.170269</td>\n",
              "      <td>-1.500251</td>\n",
              "      <td>-0.291937</td>\n",
              "    </tr>\n",
              "    <tr>\n",
              "      <th>4998</th>\n",
              "      <td>-0.054592</td>\n",
              "      <td>-0.446694</td>\n",
              "      <td>0.141541</td>\n",
              "      <td>1.182053</td>\n",
              "      <td>0.651116</td>\n",
              "    </tr>\n",
              "    <tr>\n",
              "      <th>4999</th>\n",
              "      <td>-0.288313</td>\n",
              "      <td>0.015215</td>\n",
              "      <td>-0.194342</td>\n",
              "      <td>0.071855</td>\n",
              "      <td>1.041625</td>\n",
              "    </tr>\n",
              "  </tbody>\n",
              "</table>\n",
              "<p>5000 rows × 5 columns</p>\n",
              "</div>"
            ],
            "text/plain": [
              "      Avg. Area Income  Avg. Area House Age  Avg. Area Number of Rooms  \\\n",
              "0             1.028660            -0.296927                   0.021274   \n",
              "1             1.000808             0.025902                  -0.255506   \n",
              "2            -0.684629            -0.112303                   1.516243   \n",
              "3            -0.491499             1.221572                  -1.393077   \n",
              "4            -0.807073            -0.944834                   0.846742   \n",
              "...                ...                  ...                        ...   \n",
              "4995         -0.752109             1.869297                  -0.845588   \n",
              "4996          0.929740             1.030822                  -0.408686   \n",
              "4997         -0.487235             1.284470                  -2.170269   \n",
              "4998         -0.054592            -0.446694                   0.141541   \n",
              "4999         -0.288313             0.015215                  -0.194342   \n",
              "\n",
              "      Avg. Area Number of Bedrooms  Area Population  \n",
              "0                         0.088062        -1.317599  \n",
              "1                        -0.722301         0.403999  \n",
              "2                         0.930840         0.072410  \n",
              "3                        -0.584540        -0.186734  \n",
              "4                         0.201513        -0.988387  \n",
              "...                            ...              ...  \n",
              "4995                     -0.422467        -1.342732  \n",
              "4996                      0.031337        -1.062747  \n",
              "4997                     -1.500251        -0.291937  \n",
              "4998                      1.182053         0.651116  \n",
              "4999                      0.071855         1.041625  \n",
              "\n",
              "[5000 rows x 5 columns]"
            ]
          },
          "execution_count": 7,
          "metadata": {},
          "output_type": "execute_result"
        }
      ],
      "source": [
        "scaler = StandardScaler()\n",
        "scaled = scaler.fit(X)\n",
        "scaled = scaler.transform(X)\n",
        "X_scaled = pd.DataFrame(scaled,columns=X.columns)\n",
        "X_scaled"
      ]
    },
    {
      "cell_type": "code",
      "execution_count": null,
      "id": "bfb9504c",
      "metadata": {
        "id": "bfb9504c"
      },
      "outputs": [],
      "source": [
        "from sklearn.model_selection import KFold,LeaveOneOut\n",
        "from sklearn.linear_model import LinearRegression\n",
        "model = LinearRegression()\n",
        "kfold = KFold(5)\n"
      ]
    },
    {
      "cell_type": "code",
      "execution_count": null,
      "id": "38f03327",
      "metadata": {
        "id": "38f03327"
      },
      "outputs": [],
      "source": [
        "from sklearn.model_selection import train_test_split"
      ]
    },
    {
      "cell_type": "code",
      "execution_count": null,
      "id": "d2c06ab2",
      "metadata": {
        "id": "d2c06ab2"
      },
      "outputs": [],
      "source": [
        "#def get_results(model,X_train,X_test,Y_train,Y_test):\n",
        "    \n",
        "    #model.fit(X_train,Y_train)\n",
        "    #pred = model.predict(Y_test)\n",
        "    #score = r2_score(pred,Y_test)\n",
        "    \n",
        "    #return print(pred),print(score ##This particular function will give us value of predictions and r2_score for each and every fold\n",
        "           \n"
      ]
    },
    {
      "cell_type": "code",
      "execution_count": null,
      "id": "cec079b2",
      "metadata": {
        "id": "cec079b2",
        "outputId": "e3612d9e-78f5-49e3-a855-ada2791dfce0"
      },
      "outputs": [
        {
          "name": "stdout",
          "output_type": "stream",
          "text": [
            "[CV] END .................................................... total time=   0.0s\n",
            "[CV] END .................................................... total time=   0.0s\n",
            "[CV] END .................................................... total time=   0.0s\n",
            "[CV] END .................................................... total time=   0.0s\n",
            "[CV] END .................................................... total time=   0.0s\n"
          ]
        },
        {
          "name": "stderr",
          "output_type": "stream",
          "text": [
            "[Parallel(n_jobs=1)]: Using backend SequentialBackend with 1 concurrent workers.\n",
            "[Parallel(n_jobs=1)]: Done   1 out of   1 | elapsed:    0.0s remaining:    0.0s\n",
            "[Parallel(n_jobs=1)]: Done   5 out of   5 | elapsed:    0.0s finished\n"
          ]
        },
        {
          "data": {
            "text/plain": [
              "array([0.91758995, 0.92030155, 0.91524299, 0.92085038, 0.91381118])"
            ]
          },
          "execution_count": 11,
          "metadata": {},
          "output_type": "execute_result"
        }
      ],
      "source": [
        "from sklearn.model_selection import cross_val_score\n",
        "score = cross_val_score(model,X_scaled,Y,cv=kfold,verbose=2)\n",
        "score"
      ]
    },
    {
      "cell_type": "code",
      "execution_count": null,
      "id": "3ee3f36c",
      "metadata": {
        "id": "3ee3f36c",
        "outputId": "b9105384-f71e-411e-9913-0f2e78d061a1"
      },
      "outputs": [
        {
          "name": "stdout",
          "output_type": "stream",
          "text": [
            "[0.91758995 0.92030155 0.91524299 0.92085038 0.91381118]\n"
          ]
        }
      ],
      "source": [
        "print(score)"
      ]
    },
    {
      "cell_type": "code",
      "execution_count": null,
      "id": "3884dd24",
      "metadata": {
        "id": "3884dd24",
        "outputId": "05821cb0-188d-40a8-a559-ea504fb5bb08"
      },
      "outputs": [
        {
          "name": "stdout",
          "output_type": "stream",
          "text": [
            "0.9175592097636279\n"
          ]
        }
      ],
      "source": [
        "print(np.mean(score))## CV score value "
      ]
    },
    {
      "cell_type": "code",
      "execution_count": null,
      "id": "72235124",
      "metadata": {
        "id": "72235124"
      },
      "outputs": [],
      "source": []
    },
    {
      "cell_type": "markdown",
      "id": "f55a5403",
      "metadata": {
        "id": "f55a5403"
      },
      "source": [
        "### PART-3 MULTIPLE REGRESSION MODEL - CAR PRICE PREDICTION"
      ]
    },
    {
      "cell_type": "code",
      "execution_count": null,
      "id": "b966791d",
      "metadata": {
        "id": "b966791d"
      },
      "outputs": [],
      "source": [
        "data = pd.read_fwf('C:/Users/Anuj/Downloads/imports-85.data')\n"
      ]
    },
    {
      "cell_type": "code",
      "execution_count": null,
      "id": "9eb617aa",
      "metadata": {
        "id": "9eb617aa"
      },
      "outputs": [],
      "source": [
        "datafile = pd.read_csv('C:/Users/Anuj/Downloads/imports-85.csv')\n",
        "datafile"
      ]
    },
    {
      "cell_type": "code",
      "execution_count": null,
      "id": "d9de721e",
      "metadata": {
        "id": "d9de721e"
      },
      "outputs": [],
      "source": [
        "col_name = [\"symboling\", \"normalized_losses\",\n",
        "\"make\", \"fuel_type\", \"aspiration\",\"num_doors\", \"body_style\", \"drive_wheels\",\n",
        "\"engine_location\", \"wheel_base\", \"length\", \"width\", \"height\", \"curb_weight\",\n",
        "\"engine_type\", \"num_cylinders\", \"engine_size\", \"fuel_system\", \"bore\", \"stroke\",\n",
        "\"compression_ratio\", \"horsepower\", \"peak_rpm\", \"city_mpg\", \"highway_mpg\", \"price\"]"
      ]
    },
    {
      "cell_type": "code",
      "execution_count": null,
      "id": "c2bbef9e",
      "metadata": {
        "id": "c2bbef9e"
      },
      "outputs": [],
      "source": [
        "col_name"
      ]
    },
    {
      "cell_type": "code",
      "execution_count": null,
      "id": "6e61b876",
      "metadata": {
        "id": "6e61b876"
      },
      "outputs": [],
      "source": [
        "datafile_1 = pd.DataFrame(datafile)\n",
        "datafile_1"
      ]
    },
    {
      "cell_type": "code",
      "execution_count": null,
      "id": "eb6beed1",
      "metadata": {
        "id": "eb6beed1"
      },
      "outputs": [],
      "source": [
        "datalist = datafile_1.values.tolist()\n",
        "datalist"
      ]
    },
    {
      "cell_type": "code",
      "execution_count": null,
      "id": "2a20690c",
      "metadata": {
        "id": "2a20690c"
      },
      "outputs": [],
      "source": [
        "df = pd.DataFrame(datalist,columns=col_name)\n",
        "df## generating the dataframe by conevrting the datafiles into an array first and then again converting back into a dataframe"
      ]
    },
    {
      "cell_type": "code",
      "execution_count": null,
      "id": "61ec910c",
      "metadata": {
        "id": "61ec910c"
      },
      "outputs": [],
      "source": [
        "df.head()"
      ]
    },
    {
      "cell_type": "code",
      "execution_count": null,
      "id": "f89b1b23",
      "metadata": {
        "id": "f89b1b23"
      },
      "outputs": [],
      "source": [
        "df.shape"
      ]
    },
    {
      "cell_type": "code",
      "execution_count": null,
      "id": "cca578e1",
      "metadata": {
        "id": "cca578e1"
      },
      "outputs": [],
      "source": [
        "data_new = df.replace('?',np.NaN)## replacing with null values\n",
        "data_new"
      ]
    },
    {
      "cell_type": "code",
      "execution_count": null,
      "id": "5e022bcc",
      "metadata": {
        "id": "5e022bcc"
      },
      "outputs": [],
      "source": [
        "data_new.isnull().sum()"
      ]
    },
    {
      "cell_type": "code",
      "execution_count": null,
      "id": "466ae290",
      "metadata": {
        "id": "466ae290"
      },
      "outputs": [],
      "source": [
        "## The data cloumns which generally contain the the null values are the ones which have numericall values"
      ]
    },
    {
      "cell_type": "code",
      "execution_count": null,
      "id": "9a3e4703",
      "metadata": {
        "id": "9a3e4703"
      },
      "outputs": [],
      "source": [
        "data_new.normalized_losses.value_counts()"
      ]
    },
    {
      "cell_type": "code",
      "execution_count": null,
      "id": "037550d2",
      "metadata": {
        "id": "037550d2"
      },
      "outputs": [],
      "source": [
        "data_new.isnull().sum()"
      ]
    },
    {
      "cell_type": "code",
      "execution_count": null,
      "id": "2c489d51",
      "metadata": {
        "id": "2c489d51"
      },
      "outputs": [],
      "source": [
        "data_new"
      ]
    },
    {
      "cell_type": "code",
      "execution_count": null,
      "id": "38e59399",
      "metadata": {
        "id": "38e59399"
      },
      "outputs": [],
      "source": [
        "data_new_1 = data_new.dropna(subset = ['price'])\n",
        "data_new_1## 4 rows with null price values have been dropped"
      ]
    },
    {
      "cell_type": "code",
      "execution_count": null,
      "id": "91a3ae3e",
      "metadata": {
        "id": "91a3ae3e"
      },
      "outputs": [],
      "source": [
        "data_new_1.isnull().sum()"
      ]
    },
    {
      "cell_type": "code",
      "execution_count": null,
      "id": "824ca64a",
      "metadata": {
        "id": "824ca64a"
      },
      "outputs": [],
      "source": [
        "data_new_1 = data_new_1.replace({\n",
        "    'normalized_losses' : np.NaN\n",
        "},data_new_1.normalized_losses.median())\n",
        "data_new_1"
      ]
    },
    {
      "cell_type": "code",
      "execution_count": null,
      "id": "6e8cbe2f",
      "metadata": {
        "id": "6e8cbe2f"
      },
      "outputs": [],
      "source": [
        "data_new_1.isnull().sum()"
      ]
    },
    {
      "cell_type": "code",
      "execution_count": null,
      "id": "1f105fe7",
      "metadata": {
        "id": "1f105fe7"
      },
      "outputs": [],
      "source": [
        "data_new_1"
      ]
    },
    {
      "cell_type": "code",
      "execution_count": null,
      "id": "3e6bdd7f",
      "metadata": {
        "id": "3e6bdd7f"
      },
      "outputs": [],
      "source": [
        "data_new_1.isnull().sum()"
      ]
    },
    {
      "cell_type": "code",
      "execution_count": null,
      "id": "f1a257ba",
      "metadata": {
        "id": "f1a257ba"
      },
      "outputs": [],
      "source": [
        "data_new_1## After applying central tendency values to all the necessary columns"
      ]
    },
    {
      "cell_type": "markdown",
      "id": "382d4c4e",
      "metadata": {
        "id": "382d4c4e"
      },
      "source": [
        "## Replacing 'num_doors','num_cylinder'"
      ]
    },
    {
      "cell_type": "code",
      "execution_count": null,
      "id": "09adb3f1",
      "metadata": {
        "id": "09adb3f1",
        "outputId": "52d9983a-6176-43b6-b38f-6793bd74a5ee"
      },
      "outputs": [
        {
          "data": {
            "text/plain": [
              "four    113\n",
              "two      85\n",
              "Name: num_doors, dtype: int64"
            ]
          },
          "execution_count": 36,
          "metadata": {},
          "output_type": "execute_result"
        }
      ],
      "source": [
        "data_new_1.num_doors.value_counts()"
      ]
    },
    {
      "cell_type": "code",
      "execution_count": null,
      "id": "2b81c948",
      "metadata": {
        "id": "2b81c948",
        "outputId": "40da0e81-7104-430c-a4e5-b7119e860271"
      },
      "outputs": [
        {
          "data": {
            "text/plain": [
              "four      156\n",
              "six        24\n",
              "five       10\n",
              "two         4\n",
              "eight       4\n",
              "three       1\n",
              "twelve      1\n",
              "Name: num_cylinders, dtype: int64"
            ]
          },
          "execution_count": 37,
          "metadata": {},
          "output_type": "execute_result"
        }
      ],
      "source": [
        "data_new_1.num_cylinders.value_counts()"
      ]
    },
    {
      "cell_type": "markdown",
      "id": "32bf2548",
      "metadata": {
        "id": "32bf2548"
      },
      "source": [
        "#### Replacer function to replace the string value of numbers by its numeric form"
      ]
    },
    {
      "cell_type": "code",
      "execution_count": null,
      "id": "a9df7d87",
      "metadata": {
        "id": "a9df7d87"
      },
      "outputs": [],
      "source": [
        "def replacer(data_new_1,column_name,val_to_replace,new_val):\n",
        "    data_new_1 = data_new_1.replace({\n",
        "        column_name : val_to_replace\n",
        "    },new_val)\n",
        "    \n",
        "    return data_new_1"
      ]
    },
    {
      "cell_type": "code",
      "execution_count": null,
      "id": "ccae9ac4",
      "metadata": {
        "id": "ccae9ac4"
      },
      "outputs": [],
      "source": [
        "data_new_1 = replacer(data_new_1,'num_doors','two',2)\n",
        "data_new_1 = replacer(data_new_1,'num_doors','four',4)"
      ]
    },
    {
      "cell_type": "code",
      "execution_count": null,
      "id": "f1d81674",
      "metadata": {
        "id": "f1d81674",
        "outputId": "52ac3a7e-e3dc-4bbd-b4ec-19da57a3d45d"
      },
      "outputs": [
        {
          "data": {
            "text/html": [
              "<div>\n",
              "<style scoped>\n",
              "    .dataframe tbody tr th:only-of-type {\n",
              "        vertical-align: middle;\n",
              "    }\n",
              "\n",
              "    .dataframe tbody tr th {\n",
              "        vertical-align: top;\n",
              "    }\n",
              "\n",
              "    .dataframe thead th {\n",
              "        text-align: right;\n",
              "    }\n",
              "</style>\n",
              "<table border=\"1\" class=\"dataframe\">\n",
              "  <thead>\n",
              "    <tr style=\"text-align: right;\">\n",
              "      <th></th>\n",
              "      <th>symboling</th>\n",
              "      <th>normalized_losses</th>\n",
              "      <th>make</th>\n",
              "      <th>fuel_type</th>\n",
              "      <th>aspiration</th>\n",
              "      <th>num_doors</th>\n",
              "      <th>body_style</th>\n",
              "      <th>drive_wheels</th>\n",
              "      <th>engine_location</th>\n",
              "      <th>wheel_base</th>\n",
              "      <th>...</th>\n",
              "      <th>engine_size</th>\n",
              "      <th>fuel_system</th>\n",
              "      <th>bore</th>\n",
              "      <th>stroke</th>\n",
              "      <th>compression_ratio</th>\n",
              "      <th>horsepower</th>\n",
              "      <th>peak_rpm</th>\n",
              "      <th>city_mpg</th>\n",
              "      <th>highway_mpg</th>\n",
              "      <th>price</th>\n",
              "    </tr>\n",
              "  </thead>\n",
              "  <tbody>\n",
              "    <tr>\n",
              "      <th>0</th>\n",
              "      <td>3</td>\n",
              "      <td>115.0</td>\n",
              "      <td>alfa-romero</td>\n",
              "      <td>gas</td>\n",
              "      <td>std</td>\n",
              "      <td>2.0</td>\n",
              "      <td>convertible</td>\n",
              "      <td>rwd</td>\n",
              "      <td>front</td>\n",
              "      <td>88.6</td>\n",
              "      <td>...</td>\n",
              "      <td>130</td>\n",
              "      <td>mpfi</td>\n",
              "      <td>3.47</td>\n",
              "      <td>2.68</td>\n",
              "      <td>9.0</td>\n",
              "      <td>111</td>\n",
              "      <td>5000</td>\n",
              "      <td>21</td>\n",
              "      <td>27</td>\n",
              "      <td>16500</td>\n",
              "    </tr>\n",
              "    <tr>\n",
              "      <th>1</th>\n",
              "      <td>1</td>\n",
              "      <td>115.0</td>\n",
              "      <td>alfa-romero</td>\n",
              "      <td>gas</td>\n",
              "      <td>std</td>\n",
              "      <td>2.0</td>\n",
              "      <td>hatchback</td>\n",
              "      <td>rwd</td>\n",
              "      <td>front</td>\n",
              "      <td>94.5</td>\n",
              "      <td>...</td>\n",
              "      <td>152</td>\n",
              "      <td>mpfi</td>\n",
              "      <td>2.68</td>\n",
              "      <td>3.47</td>\n",
              "      <td>9.0</td>\n",
              "      <td>154</td>\n",
              "      <td>5000</td>\n",
              "      <td>19</td>\n",
              "      <td>26</td>\n",
              "      <td>16500</td>\n",
              "    </tr>\n",
              "    <tr>\n",
              "      <th>2</th>\n",
              "      <td>2</td>\n",
              "      <td>164</td>\n",
              "      <td>audi</td>\n",
              "      <td>gas</td>\n",
              "      <td>std</td>\n",
              "      <td>4.0</td>\n",
              "      <td>sedan</td>\n",
              "      <td>fwd</td>\n",
              "      <td>front</td>\n",
              "      <td>99.8</td>\n",
              "      <td>...</td>\n",
              "      <td>109</td>\n",
              "      <td>mpfi</td>\n",
              "      <td>3.19</td>\n",
              "      <td>3.40</td>\n",
              "      <td>10.0</td>\n",
              "      <td>102</td>\n",
              "      <td>5500</td>\n",
              "      <td>24</td>\n",
              "      <td>30</td>\n",
              "      <td>13950</td>\n",
              "    </tr>\n",
              "    <tr>\n",
              "      <th>3</th>\n",
              "      <td>2</td>\n",
              "      <td>164</td>\n",
              "      <td>audi</td>\n",
              "      <td>gas</td>\n",
              "      <td>std</td>\n",
              "      <td>4.0</td>\n",
              "      <td>sedan</td>\n",
              "      <td>4wd</td>\n",
              "      <td>front</td>\n",
              "      <td>99.4</td>\n",
              "      <td>...</td>\n",
              "      <td>136</td>\n",
              "      <td>mpfi</td>\n",
              "      <td>3.19</td>\n",
              "      <td>3.40</td>\n",
              "      <td>8.0</td>\n",
              "      <td>115</td>\n",
              "      <td>5500</td>\n",
              "      <td>18</td>\n",
              "      <td>22</td>\n",
              "      <td>17450</td>\n",
              "    </tr>\n",
              "    <tr>\n",
              "      <th>4</th>\n",
              "      <td>2</td>\n",
              "      <td>115.0</td>\n",
              "      <td>audi</td>\n",
              "      <td>gas</td>\n",
              "      <td>std</td>\n",
              "      <td>2.0</td>\n",
              "      <td>sedan</td>\n",
              "      <td>fwd</td>\n",
              "      <td>front</td>\n",
              "      <td>99.8</td>\n",
              "      <td>...</td>\n",
              "      <td>136</td>\n",
              "      <td>mpfi</td>\n",
              "      <td>3.19</td>\n",
              "      <td>3.40</td>\n",
              "      <td>8.5</td>\n",
              "      <td>110</td>\n",
              "      <td>5500</td>\n",
              "      <td>19</td>\n",
              "      <td>25</td>\n",
              "      <td>15250</td>\n",
              "    </tr>\n",
              "    <tr>\n",
              "      <th>...</th>\n",
              "      <td>...</td>\n",
              "      <td>...</td>\n",
              "      <td>...</td>\n",
              "      <td>...</td>\n",
              "      <td>...</td>\n",
              "      <td>...</td>\n",
              "      <td>...</td>\n",
              "      <td>...</td>\n",
              "      <td>...</td>\n",
              "      <td>...</td>\n",
              "      <td>...</td>\n",
              "      <td>...</td>\n",
              "      <td>...</td>\n",
              "      <td>...</td>\n",
              "      <td>...</td>\n",
              "      <td>...</td>\n",
              "      <td>...</td>\n",
              "      <td>...</td>\n",
              "      <td>...</td>\n",
              "      <td>...</td>\n",
              "      <td>...</td>\n",
              "    </tr>\n",
              "    <tr>\n",
              "      <th>199</th>\n",
              "      <td>-1</td>\n",
              "      <td>95</td>\n",
              "      <td>volvo</td>\n",
              "      <td>gas</td>\n",
              "      <td>std</td>\n",
              "      <td>4.0</td>\n",
              "      <td>sedan</td>\n",
              "      <td>rwd</td>\n",
              "      <td>front</td>\n",
              "      <td>109.1</td>\n",
              "      <td>...</td>\n",
              "      <td>141</td>\n",
              "      <td>mpfi</td>\n",
              "      <td>3.78</td>\n",
              "      <td>3.15</td>\n",
              "      <td>9.5</td>\n",
              "      <td>114</td>\n",
              "      <td>5400</td>\n",
              "      <td>23</td>\n",
              "      <td>28</td>\n",
              "      <td>16845</td>\n",
              "    </tr>\n",
              "    <tr>\n",
              "      <th>200</th>\n",
              "      <td>-1</td>\n",
              "      <td>95</td>\n",
              "      <td>volvo</td>\n",
              "      <td>gas</td>\n",
              "      <td>turbo</td>\n",
              "      <td>4.0</td>\n",
              "      <td>sedan</td>\n",
              "      <td>rwd</td>\n",
              "      <td>front</td>\n",
              "      <td>109.1</td>\n",
              "      <td>...</td>\n",
              "      <td>141</td>\n",
              "      <td>mpfi</td>\n",
              "      <td>3.78</td>\n",
              "      <td>3.15</td>\n",
              "      <td>8.7</td>\n",
              "      <td>160</td>\n",
              "      <td>5300</td>\n",
              "      <td>19</td>\n",
              "      <td>25</td>\n",
              "      <td>19045</td>\n",
              "    </tr>\n",
              "    <tr>\n",
              "      <th>201</th>\n",
              "      <td>-1</td>\n",
              "      <td>95</td>\n",
              "      <td>volvo</td>\n",
              "      <td>gas</td>\n",
              "      <td>std</td>\n",
              "      <td>4.0</td>\n",
              "      <td>sedan</td>\n",
              "      <td>rwd</td>\n",
              "      <td>front</td>\n",
              "      <td>109.1</td>\n",
              "      <td>...</td>\n",
              "      <td>173</td>\n",
              "      <td>mpfi</td>\n",
              "      <td>3.58</td>\n",
              "      <td>2.87</td>\n",
              "      <td>8.8</td>\n",
              "      <td>134</td>\n",
              "      <td>5500</td>\n",
              "      <td>18</td>\n",
              "      <td>23</td>\n",
              "      <td>21485</td>\n",
              "    </tr>\n",
              "    <tr>\n",
              "      <th>202</th>\n",
              "      <td>-1</td>\n",
              "      <td>95</td>\n",
              "      <td>volvo</td>\n",
              "      <td>diesel</td>\n",
              "      <td>turbo</td>\n",
              "      <td>4.0</td>\n",
              "      <td>sedan</td>\n",
              "      <td>rwd</td>\n",
              "      <td>front</td>\n",
              "      <td>109.1</td>\n",
              "      <td>...</td>\n",
              "      <td>145</td>\n",
              "      <td>idi</td>\n",
              "      <td>3.01</td>\n",
              "      <td>3.40</td>\n",
              "      <td>23.0</td>\n",
              "      <td>106</td>\n",
              "      <td>4800</td>\n",
              "      <td>26</td>\n",
              "      <td>27</td>\n",
              "      <td>22470</td>\n",
              "    </tr>\n",
              "    <tr>\n",
              "      <th>203</th>\n",
              "      <td>-1</td>\n",
              "      <td>95</td>\n",
              "      <td>volvo</td>\n",
              "      <td>gas</td>\n",
              "      <td>turbo</td>\n",
              "      <td>4.0</td>\n",
              "      <td>sedan</td>\n",
              "      <td>rwd</td>\n",
              "      <td>front</td>\n",
              "      <td>109.1</td>\n",
              "      <td>...</td>\n",
              "      <td>141</td>\n",
              "      <td>mpfi</td>\n",
              "      <td>3.78</td>\n",
              "      <td>3.15</td>\n",
              "      <td>9.5</td>\n",
              "      <td>114</td>\n",
              "      <td>5400</td>\n",
              "      <td>19</td>\n",
              "      <td>25</td>\n",
              "      <td>22625</td>\n",
              "    </tr>\n",
              "  </tbody>\n",
              "</table>\n",
              "<p>200 rows × 26 columns</p>\n",
              "</div>"
            ],
            "text/plain": [
              "     symboling normalized_losses         make fuel_type aspiration  num_doors  \\\n",
              "0            3             115.0  alfa-romero       gas        std        2.0   \n",
              "1            1             115.0  alfa-romero       gas        std        2.0   \n",
              "2            2               164         audi       gas        std        4.0   \n",
              "3            2               164         audi       gas        std        4.0   \n",
              "4            2             115.0         audi       gas        std        2.0   \n",
              "..         ...               ...          ...       ...        ...        ...   \n",
              "199         -1                95        volvo       gas        std        4.0   \n",
              "200         -1                95        volvo       gas      turbo        4.0   \n",
              "201         -1                95        volvo       gas        std        4.0   \n",
              "202         -1                95        volvo    diesel      turbo        4.0   \n",
              "203         -1                95        volvo       gas      turbo        4.0   \n",
              "\n",
              "      body_style drive_wheels engine_location  wheel_base  ...  engine_size  \\\n",
              "0    convertible          rwd           front        88.6  ...          130   \n",
              "1      hatchback          rwd           front        94.5  ...          152   \n",
              "2          sedan          fwd           front        99.8  ...          109   \n",
              "3          sedan          4wd           front        99.4  ...          136   \n",
              "4          sedan          fwd           front        99.8  ...          136   \n",
              "..           ...          ...             ...         ...  ...          ...   \n",
              "199        sedan          rwd           front       109.1  ...          141   \n",
              "200        sedan          rwd           front       109.1  ...          141   \n",
              "201        sedan          rwd           front       109.1  ...          173   \n",
              "202        sedan          rwd           front       109.1  ...          145   \n",
              "203        sedan          rwd           front       109.1  ...          141   \n",
              "\n",
              "     fuel_system  bore  stroke compression_ratio horsepower  peak_rpm  \\\n",
              "0           mpfi  3.47    2.68               9.0        111      5000   \n",
              "1           mpfi  2.68    3.47               9.0        154      5000   \n",
              "2           mpfi  3.19    3.40              10.0        102      5500   \n",
              "3           mpfi  3.19    3.40               8.0        115      5500   \n",
              "4           mpfi  3.19    3.40               8.5        110      5500   \n",
              "..           ...   ...     ...               ...        ...       ...   \n",
              "199         mpfi  3.78    3.15               9.5        114      5400   \n",
              "200         mpfi  3.78    3.15               8.7        160      5300   \n",
              "201         mpfi  3.58    2.87               8.8        134      5500   \n",
              "202          idi  3.01    3.40              23.0        106      4800   \n",
              "203         mpfi  3.78    3.15               9.5        114      5400   \n",
              "\n",
              "    city_mpg highway_mpg  price  \n",
              "0         21          27  16500  \n",
              "1         19          26  16500  \n",
              "2         24          30  13950  \n",
              "3         18          22  17450  \n",
              "4         19          25  15250  \n",
              "..       ...         ...    ...  \n",
              "199       23          28  16845  \n",
              "200       19          25  19045  \n",
              "201       18          23  21485  \n",
              "202       26          27  22470  \n",
              "203       19          25  22625  \n",
              "\n",
              "[200 rows x 26 columns]"
            ]
          },
          "execution_count": 40,
          "metadata": {},
          "output_type": "execute_result"
        }
      ],
      "source": [
        "data_new_1"
      ]
    },
    {
      "cell_type": "code",
      "execution_count": null,
      "id": "d803c0bb",
      "metadata": {
        "id": "d803c0bb",
        "outputId": "07247909-cf56-4732-fd22-b3fb96c2ca1c"
      },
      "outputs": [
        {
          "data": {
            "text/plain": [
              "4     156\n",
              "6      24\n",
              "5      10\n",
              "2       4\n",
              "8       4\n",
              "3       1\n",
              "12      1\n",
              "Name: num_cylinders, dtype: int64"
            ]
          },
          "execution_count": 41,
          "metadata": {},
          "output_type": "execute_result"
        }
      ],
      "source": [
        "data_new_1 = replacer(data_new_1,'num_cylinders','two',2)\n",
        "data_new_1 = replacer(data_new_1,'num_cylinders','three',3)\n",
        "data_new_1 = replacer(data_new_1,'num_cylinders','four',4)\n",
        "data_new_1 = replacer(data_new_1,'num_cylinders','six',6)\n",
        "data_new_1 = replacer(data_new_1,'num_cylinders','five',5)\n",
        "data_new_1 = replacer(data_new_1,'num_cylinders','eight',8)\n",
        "data_new_1 = replacer(data_new_1,'num_cylinders','twelve',12)\n",
        "data_new_1.num_cylinders.value_counts()"
      ]
    },
    {
      "cell_type": "code",
      "execution_count": null,
      "id": "5173c315",
      "metadata": {
        "id": "5173c315",
        "outputId": "7f80e460-b3f5-4dfd-ba35-71041de5b923"
      },
      "outputs": [
        {
          "data": {
            "text/html": [
              "<div>\n",
              "<style scoped>\n",
              "    .dataframe tbody tr th:only-of-type {\n",
              "        vertical-align: middle;\n",
              "    }\n",
              "\n",
              "    .dataframe tbody tr th {\n",
              "        vertical-align: top;\n",
              "    }\n",
              "\n",
              "    .dataframe thead th {\n",
              "        text-align: right;\n",
              "    }\n",
              "</style>\n",
              "<table border=\"1\" class=\"dataframe\">\n",
              "  <thead>\n",
              "    <tr style=\"text-align: right;\">\n",
              "      <th></th>\n",
              "      <th>symboling</th>\n",
              "      <th>normalized_losses</th>\n",
              "      <th>make</th>\n",
              "      <th>fuel_type</th>\n",
              "      <th>aspiration</th>\n",
              "      <th>num_doors</th>\n",
              "      <th>body_style</th>\n",
              "      <th>drive_wheels</th>\n",
              "      <th>engine_location</th>\n",
              "      <th>wheel_base</th>\n",
              "      <th>...</th>\n",
              "      <th>engine_size</th>\n",
              "      <th>fuel_system</th>\n",
              "      <th>bore</th>\n",
              "      <th>stroke</th>\n",
              "      <th>compression_ratio</th>\n",
              "      <th>horsepower</th>\n",
              "      <th>peak_rpm</th>\n",
              "      <th>city_mpg</th>\n",
              "      <th>highway_mpg</th>\n",
              "      <th>price</th>\n",
              "    </tr>\n",
              "  </thead>\n",
              "  <tbody>\n",
              "    <tr>\n",
              "      <th>0</th>\n",
              "      <td>3</td>\n",
              "      <td>115.0</td>\n",
              "      <td>alfa-romero</td>\n",
              "      <td>gas</td>\n",
              "      <td>std</td>\n",
              "      <td>2.0</td>\n",
              "      <td>convertible</td>\n",
              "      <td>rwd</td>\n",
              "      <td>front</td>\n",
              "      <td>88.6</td>\n",
              "      <td>...</td>\n",
              "      <td>130</td>\n",
              "      <td>mpfi</td>\n",
              "      <td>3.47</td>\n",
              "      <td>2.68</td>\n",
              "      <td>9.0</td>\n",
              "      <td>111</td>\n",
              "      <td>5000</td>\n",
              "      <td>21</td>\n",
              "      <td>27</td>\n",
              "      <td>16500</td>\n",
              "    </tr>\n",
              "    <tr>\n",
              "      <th>1</th>\n",
              "      <td>1</td>\n",
              "      <td>115.0</td>\n",
              "      <td>alfa-romero</td>\n",
              "      <td>gas</td>\n",
              "      <td>std</td>\n",
              "      <td>2.0</td>\n",
              "      <td>hatchback</td>\n",
              "      <td>rwd</td>\n",
              "      <td>front</td>\n",
              "      <td>94.5</td>\n",
              "      <td>...</td>\n",
              "      <td>152</td>\n",
              "      <td>mpfi</td>\n",
              "      <td>2.68</td>\n",
              "      <td>3.47</td>\n",
              "      <td>9.0</td>\n",
              "      <td>154</td>\n",
              "      <td>5000</td>\n",
              "      <td>19</td>\n",
              "      <td>26</td>\n",
              "      <td>16500</td>\n",
              "    </tr>\n",
              "    <tr>\n",
              "      <th>2</th>\n",
              "      <td>2</td>\n",
              "      <td>164</td>\n",
              "      <td>audi</td>\n",
              "      <td>gas</td>\n",
              "      <td>std</td>\n",
              "      <td>4.0</td>\n",
              "      <td>sedan</td>\n",
              "      <td>fwd</td>\n",
              "      <td>front</td>\n",
              "      <td>99.8</td>\n",
              "      <td>...</td>\n",
              "      <td>109</td>\n",
              "      <td>mpfi</td>\n",
              "      <td>3.19</td>\n",
              "      <td>3.40</td>\n",
              "      <td>10.0</td>\n",
              "      <td>102</td>\n",
              "      <td>5500</td>\n",
              "      <td>24</td>\n",
              "      <td>30</td>\n",
              "      <td>13950</td>\n",
              "    </tr>\n",
              "    <tr>\n",
              "      <th>3</th>\n",
              "      <td>2</td>\n",
              "      <td>164</td>\n",
              "      <td>audi</td>\n",
              "      <td>gas</td>\n",
              "      <td>std</td>\n",
              "      <td>4.0</td>\n",
              "      <td>sedan</td>\n",
              "      <td>4wd</td>\n",
              "      <td>front</td>\n",
              "      <td>99.4</td>\n",
              "      <td>...</td>\n",
              "      <td>136</td>\n",
              "      <td>mpfi</td>\n",
              "      <td>3.19</td>\n",
              "      <td>3.40</td>\n",
              "      <td>8.0</td>\n",
              "      <td>115</td>\n",
              "      <td>5500</td>\n",
              "      <td>18</td>\n",
              "      <td>22</td>\n",
              "      <td>17450</td>\n",
              "    </tr>\n",
              "    <tr>\n",
              "      <th>4</th>\n",
              "      <td>2</td>\n",
              "      <td>115.0</td>\n",
              "      <td>audi</td>\n",
              "      <td>gas</td>\n",
              "      <td>std</td>\n",
              "      <td>2.0</td>\n",
              "      <td>sedan</td>\n",
              "      <td>fwd</td>\n",
              "      <td>front</td>\n",
              "      <td>99.8</td>\n",
              "      <td>...</td>\n",
              "      <td>136</td>\n",
              "      <td>mpfi</td>\n",
              "      <td>3.19</td>\n",
              "      <td>3.40</td>\n",
              "      <td>8.5</td>\n",
              "      <td>110</td>\n",
              "      <td>5500</td>\n",
              "      <td>19</td>\n",
              "      <td>25</td>\n",
              "      <td>15250</td>\n",
              "    </tr>\n",
              "  </tbody>\n",
              "</table>\n",
              "<p>5 rows × 26 columns</p>\n",
              "</div>"
            ],
            "text/plain": [
              "   symboling normalized_losses         make fuel_type aspiration  num_doors  \\\n",
              "0          3             115.0  alfa-romero       gas        std        2.0   \n",
              "1          1             115.0  alfa-romero       gas        std        2.0   \n",
              "2          2               164         audi       gas        std        4.0   \n",
              "3          2               164         audi       gas        std        4.0   \n",
              "4          2             115.0         audi       gas        std        2.0   \n",
              "\n",
              "    body_style drive_wheels engine_location  wheel_base  ...  engine_size  \\\n",
              "0  convertible          rwd           front        88.6  ...          130   \n",
              "1    hatchback          rwd           front        94.5  ...          152   \n",
              "2        sedan          fwd           front        99.8  ...          109   \n",
              "3        sedan          4wd           front        99.4  ...          136   \n",
              "4        sedan          fwd           front        99.8  ...          136   \n",
              "\n",
              "   fuel_system  bore  stroke compression_ratio  horsepower  peak_rpm city_mpg  \\\n",
              "0         mpfi  3.47    2.68               9.0         111      5000       21   \n",
              "1         mpfi  2.68    3.47               9.0         154      5000       19   \n",
              "2         mpfi  3.19    3.40              10.0         102      5500       24   \n",
              "3         mpfi  3.19    3.40               8.0         115      5500       18   \n",
              "4         mpfi  3.19    3.40               8.5         110      5500       19   \n",
              "\n",
              "  highway_mpg  price  \n",
              "0          27  16500  \n",
              "1          26  16500  \n",
              "2          30  13950  \n",
              "3          22  17450  \n",
              "4          25  15250  \n",
              "\n",
              "[5 rows x 26 columns]"
            ]
          },
          "execution_count": 42,
          "metadata": {},
          "output_type": "execute_result"
        }
      ],
      "source": [
        "data_new_1.head()"
      ]
    },
    {
      "cell_type": "markdown",
      "id": "8eb8ed22",
      "metadata": {
        "id": "8eb8ed22"
      },
      "source": [
        "### For 'body_style','drive_wheels' - DUMMY VARIABLE HANDLING"
      ]
    },
    {
      "cell_type": "code",
      "execution_count": null,
      "id": "b7ec1fa1",
      "metadata": {
        "id": "b7ec1fa1",
        "outputId": "10c667fb-4de8-44fb-f6c8-cc4c6b539a37"
      },
      "outputs": [
        {
          "data": {
            "text/plain": [
              "sedan          94\n",
              "hatchback      68\n",
              "wagon          25\n",
              "hardtop         8\n",
              "convertible     5\n",
              "Name: body_style, dtype: int64"
            ]
          },
          "execution_count": 43,
          "metadata": {},
          "output_type": "execute_result"
        }
      ],
      "source": [
        "data_new_1.body_style.value_counts()"
      ]
    },
    {
      "cell_type": "code",
      "execution_count": null,
      "id": "2bb622e6",
      "metadata": {
        "id": "2bb622e6"
      },
      "outputs": [],
      "source": [
        "dummy_1 = pd.get_dummies(data_new_1.body_style,drop_first=True)\n",
        "dummy_2 = pd.get_dummies(data_new_1.drive_wheels,drop_first=True)\n",
        "data_new_1 = pd.concat([dummy_1,data_new_1],axis=1)\n",
        "data_new_1 = pd.concat([dummy_2,data_new_1],axis=1)"
      ]
    },
    {
      "cell_type": "code",
      "execution_count": null,
      "id": "2279d4c3",
      "metadata": {
        "id": "2279d4c3"
      },
      "outputs": [],
      "source": [
        "data_new_1 =  data_new_1.drop(['body_style','drive_wheels'],axis=1)\n"
      ]
    },
    {
      "cell_type": "code",
      "execution_count": null,
      "id": "140bcdb4",
      "metadata": {
        "id": "140bcdb4",
        "outputId": "d595fad2-1f32-4ec1-b327-e5a8cd23a5b0"
      },
      "outputs": [
        {
          "data": {
            "text/html": [
              "<div>\n",
              "<style scoped>\n",
              "    .dataframe tbody tr th:only-of-type {\n",
              "        vertical-align: middle;\n",
              "    }\n",
              "\n",
              "    .dataframe tbody tr th {\n",
              "        vertical-align: top;\n",
              "    }\n",
              "\n",
              "    .dataframe thead th {\n",
              "        text-align: right;\n",
              "    }\n",
              "</style>\n",
              "<table border=\"1\" class=\"dataframe\">\n",
              "  <thead>\n",
              "    <tr style=\"text-align: right;\">\n",
              "      <th></th>\n",
              "      <th>fwd</th>\n",
              "      <th>rwd</th>\n",
              "      <th>hardtop</th>\n",
              "      <th>hatchback</th>\n",
              "      <th>sedan</th>\n",
              "      <th>wagon</th>\n",
              "      <th>symboling</th>\n",
              "      <th>normalized_losses</th>\n",
              "      <th>make</th>\n",
              "      <th>fuel_type</th>\n",
              "      <th>...</th>\n",
              "      <th>engine_size</th>\n",
              "      <th>fuel_system</th>\n",
              "      <th>bore</th>\n",
              "      <th>stroke</th>\n",
              "      <th>compression_ratio</th>\n",
              "      <th>horsepower</th>\n",
              "      <th>peak_rpm</th>\n",
              "      <th>city_mpg</th>\n",
              "      <th>highway_mpg</th>\n",
              "      <th>price</th>\n",
              "    </tr>\n",
              "  </thead>\n",
              "  <tbody>\n",
              "    <tr>\n",
              "      <th>0</th>\n",
              "      <td>0</td>\n",
              "      <td>1</td>\n",
              "      <td>0</td>\n",
              "      <td>0</td>\n",
              "      <td>0</td>\n",
              "      <td>0</td>\n",
              "      <td>3</td>\n",
              "      <td>115.0</td>\n",
              "      <td>alfa-romero</td>\n",
              "      <td>gas</td>\n",
              "      <td>...</td>\n",
              "      <td>130</td>\n",
              "      <td>mpfi</td>\n",
              "      <td>3.47</td>\n",
              "      <td>2.68</td>\n",
              "      <td>9.0</td>\n",
              "      <td>111</td>\n",
              "      <td>5000</td>\n",
              "      <td>21</td>\n",
              "      <td>27</td>\n",
              "      <td>16500</td>\n",
              "    </tr>\n",
              "    <tr>\n",
              "      <th>1</th>\n",
              "      <td>0</td>\n",
              "      <td>1</td>\n",
              "      <td>0</td>\n",
              "      <td>1</td>\n",
              "      <td>0</td>\n",
              "      <td>0</td>\n",
              "      <td>1</td>\n",
              "      <td>115.0</td>\n",
              "      <td>alfa-romero</td>\n",
              "      <td>gas</td>\n",
              "      <td>...</td>\n",
              "      <td>152</td>\n",
              "      <td>mpfi</td>\n",
              "      <td>2.68</td>\n",
              "      <td>3.47</td>\n",
              "      <td>9.0</td>\n",
              "      <td>154</td>\n",
              "      <td>5000</td>\n",
              "      <td>19</td>\n",
              "      <td>26</td>\n",
              "      <td>16500</td>\n",
              "    </tr>\n",
              "    <tr>\n",
              "      <th>2</th>\n",
              "      <td>1</td>\n",
              "      <td>0</td>\n",
              "      <td>0</td>\n",
              "      <td>0</td>\n",
              "      <td>1</td>\n",
              "      <td>0</td>\n",
              "      <td>2</td>\n",
              "      <td>164</td>\n",
              "      <td>audi</td>\n",
              "      <td>gas</td>\n",
              "      <td>...</td>\n",
              "      <td>109</td>\n",
              "      <td>mpfi</td>\n",
              "      <td>3.19</td>\n",
              "      <td>3.40</td>\n",
              "      <td>10.0</td>\n",
              "      <td>102</td>\n",
              "      <td>5500</td>\n",
              "      <td>24</td>\n",
              "      <td>30</td>\n",
              "      <td>13950</td>\n",
              "    </tr>\n",
              "    <tr>\n",
              "      <th>3</th>\n",
              "      <td>0</td>\n",
              "      <td>0</td>\n",
              "      <td>0</td>\n",
              "      <td>0</td>\n",
              "      <td>1</td>\n",
              "      <td>0</td>\n",
              "      <td>2</td>\n",
              "      <td>164</td>\n",
              "      <td>audi</td>\n",
              "      <td>gas</td>\n",
              "      <td>...</td>\n",
              "      <td>136</td>\n",
              "      <td>mpfi</td>\n",
              "      <td>3.19</td>\n",
              "      <td>3.40</td>\n",
              "      <td>8.0</td>\n",
              "      <td>115</td>\n",
              "      <td>5500</td>\n",
              "      <td>18</td>\n",
              "      <td>22</td>\n",
              "      <td>17450</td>\n",
              "    </tr>\n",
              "    <tr>\n",
              "      <th>4</th>\n",
              "      <td>1</td>\n",
              "      <td>0</td>\n",
              "      <td>0</td>\n",
              "      <td>0</td>\n",
              "      <td>1</td>\n",
              "      <td>0</td>\n",
              "      <td>2</td>\n",
              "      <td>115.0</td>\n",
              "      <td>audi</td>\n",
              "      <td>gas</td>\n",
              "      <td>...</td>\n",
              "      <td>136</td>\n",
              "      <td>mpfi</td>\n",
              "      <td>3.19</td>\n",
              "      <td>3.40</td>\n",
              "      <td>8.5</td>\n",
              "      <td>110</td>\n",
              "      <td>5500</td>\n",
              "      <td>19</td>\n",
              "      <td>25</td>\n",
              "      <td>15250</td>\n",
              "    </tr>\n",
              "  </tbody>\n",
              "</table>\n",
              "<p>5 rows × 30 columns</p>\n",
              "</div>"
            ],
            "text/plain": [
              "   fwd  rwd  hardtop  hatchback  sedan  wagon  symboling normalized_losses  \\\n",
              "0    0    1        0          0      0      0          3             115.0   \n",
              "1    0    1        0          1      0      0          1             115.0   \n",
              "2    1    0        0          0      1      0          2               164   \n",
              "3    0    0        0          0      1      0          2               164   \n",
              "4    1    0        0          0      1      0          2             115.0   \n",
              "\n",
              "          make fuel_type  ... engine_size  fuel_system  bore  stroke  \\\n",
              "0  alfa-romero       gas  ...         130         mpfi  3.47    2.68   \n",
              "1  alfa-romero       gas  ...         152         mpfi  2.68    3.47   \n",
              "2         audi       gas  ...         109         mpfi  3.19    3.40   \n",
              "3         audi       gas  ...         136         mpfi  3.19    3.40   \n",
              "4         audi       gas  ...         136         mpfi  3.19    3.40   \n",
              "\n",
              "   compression_ratio  horsepower  peak_rpm  city_mpg highway_mpg  price  \n",
              "0                9.0         111      5000        21          27  16500  \n",
              "1                9.0         154      5000        19          26  16500  \n",
              "2               10.0         102      5500        24          30  13950  \n",
              "3                8.0         115      5500        18          22  17450  \n",
              "4                8.5         110      5500        19          25  15250  \n",
              "\n",
              "[5 rows x 30 columns]"
            ]
          },
          "execution_count": 46,
          "metadata": {},
          "output_type": "execute_result"
        }
      ],
      "source": [
        "data_new_1.head()"
      ]
    },
    {
      "cell_type": "code",
      "execution_count": null,
      "id": "894758f8",
      "metadata": {
        "id": "894758f8",
        "outputId": "929e32cb-c20c-47de-c8a6-95058c13777a"
      },
      "outputs": [
        {
          "data": {
            "text/plain": [
              "toyota           32\n",
              "nissan           18\n",
              "mazda            17\n",
              "mitsubishi       13\n",
              "honda            13\n",
              "volkswagen       12\n",
              "subaru           12\n",
              "peugot           11\n",
              "volvo            11\n",
              "dodge             9\n",
              "mercedes-benz     8\n",
              "bmw               8\n",
              "plymouth          7\n",
              "audi              6\n",
              "saab              6\n",
              "porsche           4\n",
              "jaguar            3\n",
              "chevrolet         3\n",
              "isuzu             2\n",
              "renault           2\n",
              "alfa-romero       2\n",
              "mercury           1\n",
              "Name: make, dtype: int64"
            ]
          },
          "execution_count": 47,
          "metadata": {},
          "output_type": "execute_result"
        }
      ],
      "source": [
        "data_new_1.make.value_counts()"
      ]
    },
    {
      "cell_type": "code",
      "execution_count": null,
      "id": "c1bdf6f2",
      "metadata": {
        "id": "c1bdf6f2",
        "outputId": "a52aaed5-d149-4abb-80f7-8f05d26c2d60"
      },
      "outputs": [
        {
          "data": {
            "text/plain": [
              "fwd                  0\n",
              "rwd                  0\n",
              "hardtop              0\n",
              "hatchback            0\n",
              "sedan                0\n",
              "wagon                0\n",
              "symboling            0\n",
              "normalized_losses    0\n",
              "make                 0\n",
              "fuel_type            0\n",
              "aspiration           0\n",
              "num_doors            2\n",
              "engine_location      0\n",
              "wheel_base           0\n",
              "length               0\n",
              "width                0\n",
              "height               0\n",
              "curb_weight          0\n",
              "engine_type          0\n",
              "num_cylinders        0\n",
              "engine_size          0\n",
              "fuel_system          0\n",
              "bore                 4\n",
              "stroke               4\n",
              "compression_ratio    0\n",
              "horsepower           2\n",
              "peak_rpm             2\n",
              "city_mpg             0\n",
              "highway_mpg          0\n",
              "price                0\n",
              "dtype: int64"
            ]
          },
          "execution_count": 48,
          "metadata": {},
          "output_type": "execute_result"
        }
      ],
      "source": [
        "data_new_1.isnull().sum()"
      ]
    },
    {
      "cell_type": "code",
      "execution_count": null,
      "id": "f2cd499e",
      "metadata": {
        "id": "f2cd499e",
        "outputId": "f9185153-80d2-4af0-e6be-c829b16306bb"
      },
      "outputs": [
        {
          "data": {
            "text/plain": [
              "4.0    115\n",
              "2.0     85\n",
              "Name: num_doors, dtype: int64"
            ]
          },
          "execution_count": 49,
          "metadata": {},
          "output_type": "execute_result"
        }
      ],
      "source": [
        "data_new_1 = data_new_1.replace({\n",
        "    'num_doors' : np.NaN\n",
        "},data_new_1.num_doors.median())## Replacing the null values by median as mean would give a decimal value of no practical significance\n",
        "data_new_1.num_doors.value_counts()"
      ]
    },
    {
      "cell_type": "code",
      "execution_count": null,
      "id": "a0dea99b",
      "metadata": {
        "id": "a0dea99b",
        "outputId": "b77cc3b7-afd5-4a25-8a22-14233e683d7c"
      },
      "outputs": [
        {
          "data": {
            "text/plain": [
              "Index(['fwd', 'rwd', 'hardtop', 'hatchback', 'sedan', 'wagon', 'symboling',\n",
              "       'normalized_losses', 'make', 'fuel_type', 'aspiration', 'num_doors',\n",
              "       'engine_location', 'wheel_base', 'length', 'width', 'height',\n",
              "       'curb_weight', 'engine_type', 'num_cylinders', 'engine_size',\n",
              "       'fuel_system', 'bore', 'stroke', 'compression_ratio', 'horsepower',\n",
              "       'peak_rpm', 'city_mpg', 'highway_mpg', 'price'],\n",
              "      dtype='object')"
            ]
          },
          "execution_count": 50,
          "metadata": {},
          "output_type": "execute_result"
        }
      ],
      "source": [
        "data_new_1.columns"
      ]
    },
    {
      "cell_type": "markdown",
      "id": "16b83ff8",
      "metadata": {
        "id": "16b83ff8"
      },
      "source": [
        "## Label encoding - 'make','aspiration','engine_location','fuel_type'"
      ]
    },
    {
      "cell_type": "code",
      "execution_count": null,
      "id": "c3006ce7",
      "metadata": {
        "id": "c3006ce7"
      },
      "outputs": [],
      "source": [
        "from sklearn.preprocessing import LabelEncoder"
      ]
    },
    {
      "cell_type": "code",
      "execution_count": null,
      "id": "3e522b0d",
      "metadata": {
        "id": "3e522b0d"
      },
      "outputs": [],
      "source": [
        "le = LabelEncoder()\n",
        "label_1 = le.fit_transform(data_new_1['make'])\n",
        "label_2 = le.fit_transform(data_new_1['aspiration'])\n",
        "label_3 = le.fit_transform(data_new_1['engine_location'])\n",
        "label_4 = le.fit_transform(data_new_1['fuel_type'])"
      ]
    },
    {
      "cell_type": "code",
      "execution_count": null,
      "id": "a2606c23",
      "metadata": {
        "id": "a2606c23"
      },
      "outputs": [],
      "source": [
        "data_new_1 = data_new_1.drop(['make','aspiration','engine_location','fuel_type'],axis=1)\n",
        "\n",
        "\n"
      ]
    },
    {
      "cell_type": "code",
      "execution_count": null,
      "id": "050cd326",
      "metadata": {
        "id": "050cd326"
      },
      "outputs": [],
      "source": [
        "data_new_1['make'] = label_1\n",
        "data_new_1['aspiration'] = label_2\n",
        "data_new_1['engine_location'] = label_3\n",
        "data_new_1['fuel_type'] = label_4\n"
      ]
    },
    {
      "cell_type": "code",
      "execution_count": null,
      "id": "04bd6da6",
      "metadata": {
        "id": "04bd6da6",
        "outputId": "c494a778-8f1f-47f3-f4f8-c6d0bbfb42a8"
      },
      "outputs": [
        {
          "data": {
            "text/html": [
              "<div>\n",
              "<style scoped>\n",
              "    .dataframe tbody tr th:only-of-type {\n",
              "        vertical-align: middle;\n",
              "    }\n",
              "\n",
              "    .dataframe tbody tr th {\n",
              "        vertical-align: top;\n",
              "    }\n",
              "\n",
              "    .dataframe thead th {\n",
              "        text-align: right;\n",
              "    }\n",
              "</style>\n",
              "<table border=\"1\" class=\"dataframe\">\n",
              "  <thead>\n",
              "    <tr style=\"text-align: right;\">\n",
              "      <th></th>\n",
              "      <th>fwd</th>\n",
              "      <th>rwd</th>\n",
              "      <th>hardtop</th>\n",
              "      <th>hatchback</th>\n",
              "      <th>sedan</th>\n",
              "      <th>wagon</th>\n",
              "      <th>symboling</th>\n",
              "      <th>normalized_losses</th>\n",
              "      <th>num_doors</th>\n",
              "      <th>wheel_base</th>\n",
              "      <th>...</th>\n",
              "      <th>compression_ratio</th>\n",
              "      <th>horsepower</th>\n",
              "      <th>peak_rpm</th>\n",
              "      <th>city_mpg</th>\n",
              "      <th>highway_mpg</th>\n",
              "      <th>price</th>\n",
              "      <th>make</th>\n",
              "      <th>aspiration</th>\n",
              "      <th>engine_location</th>\n",
              "      <th>fuel_type</th>\n",
              "    </tr>\n",
              "  </thead>\n",
              "  <tbody>\n",
              "    <tr>\n",
              "      <th>0</th>\n",
              "      <td>0</td>\n",
              "      <td>1</td>\n",
              "      <td>0</td>\n",
              "      <td>0</td>\n",
              "      <td>0</td>\n",
              "      <td>0</td>\n",
              "      <td>3</td>\n",
              "      <td>115.0</td>\n",
              "      <td>2.0</td>\n",
              "      <td>88.6</td>\n",
              "      <td>...</td>\n",
              "      <td>9.0</td>\n",
              "      <td>111</td>\n",
              "      <td>5000</td>\n",
              "      <td>21</td>\n",
              "      <td>27</td>\n",
              "      <td>16500</td>\n",
              "      <td>0</td>\n",
              "      <td>0</td>\n",
              "      <td>0</td>\n",
              "      <td>1</td>\n",
              "    </tr>\n",
              "    <tr>\n",
              "      <th>1</th>\n",
              "      <td>0</td>\n",
              "      <td>1</td>\n",
              "      <td>0</td>\n",
              "      <td>1</td>\n",
              "      <td>0</td>\n",
              "      <td>0</td>\n",
              "      <td>1</td>\n",
              "      <td>115.0</td>\n",
              "      <td>2.0</td>\n",
              "      <td>94.5</td>\n",
              "      <td>...</td>\n",
              "      <td>9.0</td>\n",
              "      <td>154</td>\n",
              "      <td>5000</td>\n",
              "      <td>19</td>\n",
              "      <td>26</td>\n",
              "      <td>16500</td>\n",
              "      <td>0</td>\n",
              "      <td>0</td>\n",
              "      <td>0</td>\n",
              "      <td>1</td>\n",
              "    </tr>\n",
              "    <tr>\n",
              "      <th>2</th>\n",
              "      <td>1</td>\n",
              "      <td>0</td>\n",
              "      <td>0</td>\n",
              "      <td>0</td>\n",
              "      <td>1</td>\n",
              "      <td>0</td>\n",
              "      <td>2</td>\n",
              "      <td>164</td>\n",
              "      <td>4.0</td>\n",
              "      <td>99.8</td>\n",
              "      <td>...</td>\n",
              "      <td>10.0</td>\n",
              "      <td>102</td>\n",
              "      <td>5500</td>\n",
              "      <td>24</td>\n",
              "      <td>30</td>\n",
              "      <td>13950</td>\n",
              "      <td>1</td>\n",
              "      <td>0</td>\n",
              "      <td>0</td>\n",
              "      <td>1</td>\n",
              "    </tr>\n",
              "    <tr>\n",
              "      <th>3</th>\n",
              "      <td>0</td>\n",
              "      <td>0</td>\n",
              "      <td>0</td>\n",
              "      <td>0</td>\n",
              "      <td>1</td>\n",
              "      <td>0</td>\n",
              "      <td>2</td>\n",
              "      <td>164</td>\n",
              "      <td>4.0</td>\n",
              "      <td>99.4</td>\n",
              "      <td>...</td>\n",
              "      <td>8.0</td>\n",
              "      <td>115</td>\n",
              "      <td>5500</td>\n",
              "      <td>18</td>\n",
              "      <td>22</td>\n",
              "      <td>17450</td>\n",
              "      <td>1</td>\n",
              "      <td>0</td>\n",
              "      <td>0</td>\n",
              "      <td>1</td>\n",
              "    </tr>\n",
              "    <tr>\n",
              "      <th>4</th>\n",
              "      <td>1</td>\n",
              "      <td>0</td>\n",
              "      <td>0</td>\n",
              "      <td>0</td>\n",
              "      <td>1</td>\n",
              "      <td>0</td>\n",
              "      <td>2</td>\n",
              "      <td>115.0</td>\n",
              "      <td>2.0</td>\n",
              "      <td>99.8</td>\n",
              "      <td>...</td>\n",
              "      <td>8.5</td>\n",
              "      <td>110</td>\n",
              "      <td>5500</td>\n",
              "      <td>19</td>\n",
              "      <td>25</td>\n",
              "      <td>15250</td>\n",
              "      <td>1</td>\n",
              "      <td>0</td>\n",
              "      <td>0</td>\n",
              "      <td>1</td>\n",
              "    </tr>\n",
              "    <tr>\n",
              "      <th>...</th>\n",
              "      <td>...</td>\n",
              "      <td>...</td>\n",
              "      <td>...</td>\n",
              "      <td>...</td>\n",
              "      <td>...</td>\n",
              "      <td>...</td>\n",
              "      <td>...</td>\n",
              "      <td>...</td>\n",
              "      <td>...</td>\n",
              "      <td>...</td>\n",
              "      <td>...</td>\n",
              "      <td>...</td>\n",
              "      <td>...</td>\n",
              "      <td>...</td>\n",
              "      <td>...</td>\n",
              "      <td>...</td>\n",
              "      <td>...</td>\n",
              "      <td>...</td>\n",
              "      <td>...</td>\n",
              "      <td>...</td>\n",
              "      <td>...</td>\n",
              "    </tr>\n",
              "    <tr>\n",
              "      <th>199</th>\n",
              "      <td>0</td>\n",
              "      <td>1</td>\n",
              "      <td>0</td>\n",
              "      <td>0</td>\n",
              "      <td>1</td>\n",
              "      <td>0</td>\n",
              "      <td>-1</td>\n",
              "      <td>95</td>\n",
              "      <td>4.0</td>\n",
              "      <td>109.1</td>\n",
              "      <td>...</td>\n",
              "      <td>9.5</td>\n",
              "      <td>114</td>\n",
              "      <td>5400</td>\n",
              "      <td>23</td>\n",
              "      <td>28</td>\n",
              "      <td>16845</td>\n",
              "      <td>21</td>\n",
              "      <td>0</td>\n",
              "      <td>0</td>\n",
              "      <td>1</td>\n",
              "    </tr>\n",
              "    <tr>\n",
              "      <th>200</th>\n",
              "      <td>0</td>\n",
              "      <td>1</td>\n",
              "      <td>0</td>\n",
              "      <td>0</td>\n",
              "      <td>1</td>\n",
              "      <td>0</td>\n",
              "      <td>-1</td>\n",
              "      <td>95</td>\n",
              "      <td>4.0</td>\n",
              "      <td>109.1</td>\n",
              "      <td>...</td>\n",
              "      <td>8.7</td>\n",
              "      <td>160</td>\n",
              "      <td>5300</td>\n",
              "      <td>19</td>\n",
              "      <td>25</td>\n",
              "      <td>19045</td>\n",
              "      <td>21</td>\n",
              "      <td>1</td>\n",
              "      <td>0</td>\n",
              "      <td>1</td>\n",
              "    </tr>\n",
              "    <tr>\n",
              "      <th>201</th>\n",
              "      <td>0</td>\n",
              "      <td>1</td>\n",
              "      <td>0</td>\n",
              "      <td>0</td>\n",
              "      <td>1</td>\n",
              "      <td>0</td>\n",
              "      <td>-1</td>\n",
              "      <td>95</td>\n",
              "      <td>4.0</td>\n",
              "      <td>109.1</td>\n",
              "      <td>...</td>\n",
              "      <td>8.8</td>\n",
              "      <td>134</td>\n",
              "      <td>5500</td>\n",
              "      <td>18</td>\n",
              "      <td>23</td>\n",
              "      <td>21485</td>\n",
              "      <td>21</td>\n",
              "      <td>0</td>\n",
              "      <td>0</td>\n",
              "      <td>1</td>\n",
              "    </tr>\n",
              "    <tr>\n",
              "      <th>202</th>\n",
              "      <td>0</td>\n",
              "      <td>1</td>\n",
              "      <td>0</td>\n",
              "      <td>0</td>\n",
              "      <td>1</td>\n",
              "      <td>0</td>\n",
              "      <td>-1</td>\n",
              "      <td>95</td>\n",
              "      <td>4.0</td>\n",
              "      <td>109.1</td>\n",
              "      <td>...</td>\n",
              "      <td>23.0</td>\n",
              "      <td>106</td>\n",
              "      <td>4800</td>\n",
              "      <td>26</td>\n",
              "      <td>27</td>\n",
              "      <td>22470</td>\n",
              "      <td>21</td>\n",
              "      <td>1</td>\n",
              "      <td>0</td>\n",
              "      <td>0</td>\n",
              "    </tr>\n",
              "    <tr>\n",
              "      <th>203</th>\n",
              "      <td>0</td>\n",
              "      <td>1</td>\n",
              "      <td>0</td>\n",
              "      <td>0</td>\n",
              "      <td>1</td>\n",
              "      <td>0</td>\n",
              "      <td>-1</td>\n",
              "      <td>95</td>\n",
              "      <td>4.0</td>\n",
              "      <td>109.1</td>\n",
              "      <td>...</td>\n",
              "      <td>9.5</td>\n",
              "      <td>114</td>\n",
              "      <td>5400</td>\n",
              "      <td>19</td>\n",
              "      <td>25</td>\n",
              "      <td>22625</td>\n",
              "      <td>21</td>\n",
              "      <td>1</td>\n",
              "      <td>0</td>\n",
              "      <td>1</td>\n",
              "    </tr>\n",
              "  </tbody>\n",
              "</table>\n",
              "<p>200 rows × 30 columns</p>\n",
              "</div>"
            ],
            "text/plain": [
              "     fwd  rwd  hardtop  hatchback  sedan  wagon  symboling normalized_losses  \\\n",
              "0      0    1        0          0      0      0          3             115.0   \n",
              "1      0    1        0          1      0      0          1             115.0   \n",
              "2      1    0        0          0      1      0          2               164   \n",
              "3      0    0        0          0      1      0          2               164   \n",
              "4      1    0        0          0      1      0          2             115.0   \n",
              "..   ...  ...      ...        ...    ...    ...        ...               ...   \n",
              "199    0    1        0          0      1      0         -1                95   \n",
              "200    0    1        0          0      1      0         -1                95   \n",
              "201    0    1        0          0      1      0         -1                95   \n",
              "202    0    1        0          0      1      0         -1                95   \n",
              "203    0    1        0          0      1      0         -1                95   \n",
              "\n",
              "     num_doors  wheel_base  ...  compression_ratio  horsepower  peak_rpm  \\\n",
              "0          2.0        88.6  ...                9.0         111      5000   \n",
              "1          2.0        94.5  ...                9.0         154      5000   \n",
              "2          4.0        99.8  ...               10.0         102      5500   \n",
              "3          4.0        99.4  ...                8.0         115      5500   \n",
              "4          2.0        99.8  ...                8.5         110      5500   \n",
              "..         ...         ...  ...                ...         ...       ...   \n",
              "199        4.0       109.1  ...                9.5         114      5400   \n",
              "200        4.0       109.1  ...                8.7         160      5300   \n",
              "201        4.0       109.1  ...                8.8         134      5500   \n",
              "202        4.0       109.1  ...               23.0         106      4800   \n",
              "203        4.0       109.1  ...                9.5         114      5400   \n",
              "\n",
              "     city_mpg highway_mpg  price  make aspiration engine_location fuel_type  \n",
              "0          21          27  16500     0          0               0         1  \n",
              "1          19          26  16500     0          0               0         1  \n",
              "2          24          30  13950     1          0               0         1  \n",
              "3          18          22  17450     1          0               0         1  \n",
              "4          19          25  15250     1          0               0         1  \n",
              "..        ...         ...    ...   ...        ...             ...       ...  \n",
              "199        23          28  16845    21          0               0         1  \n",
              "200        19          25  19045    21          1               0         1  \n",
              "201        18          23  21485    21          0               0         1  \n",
              "202        26          27  22470    21          1               0         0  \n",
              "203        19          25  22625    21          1               0         1  \n",
              "\n",
              "[200 rows x 30 columns]"
            ]
          },
          "execution_count": 55,
          "metadata": {},
          "output_type": "execute_result"
        }
      ],
      "source": [
        "data_new_1"
      ]
    },
    {
      "cell_type": "code",
      "execution_count": null,
      "id": "b4a4598f",
      "metadata": {
        "id": "b4a4598f",
        "outputId": "b8340785-0d66-4ca9-9ec0-577001705484"
      },
      "outputs": [
        {
          "data": {
            "text/plain": [
              "mpfi    91\n",
              "2bbl    64\n",
              "idi     20\n",
              "1bbl    11\n",
              "spdi     9\n",
              "4bbl     3\n",
              "mfi      1\n",
              "spfi     1\n",
              "Name: fuel_system, dtype: int64"
            ]
          },
          "execution_count": 56,
          "metadata": {},
          "output_type": "execute_result"
        }
      ],
      "source": [
        "data_new_1.fuel_system.value_counts()## Replace mpfi with 1 and rest to zero"
      ]
    },
    {
      "cell_type": "code",
      "execution_count": null,
      "id": "719331c2",
      "metadata": {
        "id": "719331c2",
        "outputId": "39cf995b-a5ab-4ea6-a935-c252e50bbb39"
      },
      "outputs": [
        {
          "data": {
            "text/plain": [
              "ohc      145\n",
              "ohcf      15\n",
              "ohcv      13\n",
              "l         12\n",
              "dohc      11\n",
              "rotor      4\n",
              "Name: engine_type, dtype: int64"
            ]
          },
          "execution_count": 57,
          "metadata": {},
          "output_type": "execute_result"
        }
      ],
      "source": [
        "data_new_1.engine_type.value_counts()## replace ohc to 1 and rest all by 0"
      ]
    },
    {
      "cell_type": "markdown",
      "id": "75b654bc",
      "metadata": {
        "id": "75b654bc"
      },
      "source": [
        "## Fuel System - 'mpfi' -1 , Rest all - 0"
      ]
    },
    {
      "cell_type": "code",
      "execution_count": null,
      "id": "335c2d83",
      "metadata": {
        "id": "335c2d83",
        "outputId": "2685d2e5-bf00-4442-a473-7851706f9c2b"
      },
      "outputs": [
        {
          "data": {
            "text/plain": [
              "0    109\n",
              "1     91\n",
              "Name: fuel_system, dtype: int64"
            ]
          },
          "execution_count": 58,
          "metadata": {},
          "output_type": "execute_result"
        }
      ],
      "source": [
        "data_new_1 = replacer(data_new_1,'fuel_system','mpfi',1)\n",
        "data_new_1 = replacer(data_new_1,'fuel_system','2bbl',0)\n",
        "data_new_1 = replacer(data_new_1,'fuel_system','idi',0)\n",
        "data_new_1 = replacer(data_new_1,'fuel_system','1bbl',0)\n",
        "data_new_1 = replacer(data_new_1,'fuel_system','4bbl',0)\n",
        "data_new_1 = replacer(data_new_1,'fuel_system','mfi',0)\n",
        "data_new_1 = replacer(data_new_1,'fuel_system','spfi',0)\n",
        "data_new_1 = replacer(data_new_1,'fuel_system','spdi',0)\n",
        "data_new_1.fuel_system.value_counts()"
      ]
    },
    {
      "cell_type": "markdown",
      "id": "122bcb8d",
      "metadata": {
        "id": "122bcb8d"
      },
      "source": [
        "## Engine Type - 'ohc'-1 , Rest all -0"
      ]
    },
    {
      "cell_type": "code",
      "execution_count": null,
      "id": "707e334b",
      "metadata": {
        "id": "707e334b"
      },
      "outputs": [],
      "source": [
        "data_new_1 = replacer(data_new_1,'engine_type','ohc',1)\n",
        "data_new_1 = replacer(data_new_1,'engine_type','ohcf',0)\n",
        "data_new_1 = replacer(data_new_1,'engine_type','ohcv',0)\n",
        "data_new_1 = replacer(data_new_1,'engine_type','l',0)\n",
        "data_new_1 = replacer(data_new_1,'engine_type','rotor',0)\n",
        "data_new_1 = replacer(data_new_1,'engine_type','dohc',0)"
      ]
    },
    {
      "cell_type": "code",
      "execution_count": null,
      "id": "a31c0dbd",
      "metadata": {
        "id": "a31c0dbd",
        "outputId": "7d31e6d6-4449-476e-e992-95d6988eb45d"
      },
      "outputs": [
        {
          "data": {
            "text/plain": [
              "1    145\n",
              "0     55\n",
              "Name: engine_type, dtype: int64"
            ]
          },
          "execution_count": 60,
          "metadata": {},
          "output_type": "execute_result"
        }
      ],
      "source": [
        "data_new_1.engine_type.value_counts()"
      ]
    },
    {
      "cell_type": "code",
      "execution_count": null,
      "id": "2f4b508c",
      "metadata": {
        "id": "2f4b508c",
        "outputId": "36339f3b-c988-4e47-baea-d4ae768311dd"
      },
      "outputs": [
        {
          "data": {
            "text/plain": [
              "fwd                  0\n",
              "rwd                  0\n",
              "hardtop              0\n",
              "hatchback            0\n",
              "sedan                0\n",
              "wagon                0\n",
              "symboling            0\n",
              "normalized_losses    0\n",
              "num_doors            0\n",
              "wheel_base           0\n",
              "length               0\n",
              "width                0\n",
              "height               0\n",
              "curb_weight          0\n",
              "engine_type          0\n",
              "num_cylinders        0\n",
              "engine_size          0\n",
              "fuel_system          0\n",
              "bore                 4\n",
              "stroke               4\n",
              "compression_ratio    0\n",
              "horsepower           2\n",
              "peak_rpm             2\n",
              "city_mpg             0\n",
              "highway_mpg          0\n",
              "price                0\n",
              "make                 0\n",
              "aspiration           0\n",
              "engine_location      0\n",
              "fuel_type            0\n",
              "dtype: int64"
            ]
          },
          "execution_count": 65,
          "metadata": {},
          "output_type": "execute_result"
        }
      ],
      "source": [
        "data_new_1.isnull().sum()"
      ]
    },
    {
      "cell_type": "code",
      "execution_count": null,
      "id": "f97d3f79",
      "metadata": {
        "id": "f97d3f79",
        "outputId": "0d5f975d-bcfb-460e-8715-dc6eb14f17bf"
      },
      "outputs": [
        {
          "data": {
            "text/plain": [
              "3.31"
            ]
          },
          "execution_count": 66,
          "metadata": {},
          "output_type": "execute_result"
        }
      ],
      "source": [
        "data_new_1.bore.median()"
      ]
    },
    {
      "cell_type": "code",
      "execution_count": null,
      "id": "02bad58b",
      "metadata": {
        "id": "02bad58b",
        "outputId": "f417121d-8ce7-47e2-9d95-e13555eb3f4f"
      },
      "outputs": [
        {
          "data": {
            "text/plain": [
              "3.29"
            ]
          },
          "execution_count": 67,
          "metadata": {},
          "output_type": "execute_result"
        }
      ],
      "source": [
        "data_new_1.stroke.median()"
      ]
    },
    {
      "cell_type": "code",
      "execution_count": null,
      "id": "64fdb4ea",
      "metadata": {
        "id": "64fdb4ea",
        "outputId": "bdfea719-eb85-41e7-dae5-c86e92cade9f"
      },
      "outputs": [
        {
          "data": {
            "text/plain": [
              "95.0"
            ]
          },
          "execution_count": 68,
          "metadata": {},
          "output_type": "execute_result"
        }
      ],
      "source": [
        "data_new_1.horsepower.median()"
      ]
    },
    {
      "cell_type": "code",
      "execution_count": null,
      "id": "765ca757",
      "metadata": {
        "id": "765ca757",
        "outputId": "658e5c2e-c12e-46bd-ace6-995fdb25b39e"
      },
      "outputs": [
        {
          "data": {
            "text/plain": [
              "5200.0"
            ]
          },
          "execution_count": 69,
          "metadata": {},
          "output_type": "execute_result"
        }
      ],
      "source": [
        "data_new_1.peak_rpm.median()"
      ]
    },
    {
      "cell_type": "code",
      "execution_count": null,
      "id": "ef9d0e0b",
      "metadata": {
        "id": "ef9d0e0b"
      },
      "outputs": [],
      "source": [
        "data_new_1 = replacer(data_new_1,'bore',np.NaN,3.31)\n",
        "data_new_1 = replacer(data_new_1,'stroke',np.NaN,3.29)\n",
        "data_new_1 = replacer(data_new_1,'horsepower',np.NaN,95)\n",
        "data_new_1 = replacer(data_new_1,'peak_rpm',np.NaN,5200)"
      ]
    },
    {
      "cell_type": "code",
      "execution_count": null,
      "id": "d997ff4d",
      "metadata": {
        "id": "d997ff4d",
        "outputId": "0287d20e-acc4-456c-b5e3-a247abddb7b2"
      },
      "outputs": [
        {
          "data": {
            "text/html": [
              "<div>\n",
              "<style scoped>\n",
              "    .dataframe tbody tr th:only-of-type {\n",
              "        vertical-align: middle;\n",
              "    }\n",
              "\n",
              "    .dataframe tbody tr th {\n",
              "        vertical-align: top;\n",
              "    }\n",
              "\n",
              "    .dataframe thead th {\n",
              "        text-align: right;\n",
              "    }\n",
              "</style>\n",
              "<table border=\"1\" class=\"dataframe\">\n",
              "  <thead>\n",
              "    <tr style=\"text-align: right;\">\n",
              "      <th></th>\n",
              "      <th>fwd</th>\n",
              "      <th>rwd</th>\n",
              "      <th>hardtop</th>\n",
              "      <th>hatchback</th>\n",
              "      <th>sedan</th>\n",
              "      <th>wagon</th>\n",
              "      <th>symboling</th>\n",
              "      <th>normalized_losses</th>\n",
              "      <th>num_doors</th>\n",
              "      <th>wheel_base</th>\n",
              "      <th>...</th>\n",
              "      <th>compression_ratio</th>\n",
              "      <th>horsepower</th>\n",
              "      <th>peak_rpm</th>\n",
              "      <th>city_mpg</th>\n",
              "      <th>highway_mpg</th>\n",
              "      <th>price</th>\n",
              "      <th>make</th>\n",
              "      <th>aspiration</th>\n",
              "      <th>engine_location</th>\n",
              "      <th>fuel_type</th>\n",
              "    </tr>\n",
              "  </thead>\n",
              "  <tbody>\n",
              "    <tr>\n",
              "      <th>0</th>\n",
              "      <td>0</td>\n",
              "      <td>1</td>\n",
              "      <td>0</td>\n",
              "      <td>0</td>\n",
              "      <td>0</td>\n",
              "      <td>0</td>\n",
              "      <td>3</td>\n",
              "      <td>115.0</td>\n",
              "      <td>2.0</td>\n",
              "      <td>88.6</td>\n",
              "      <td>...</td>\n",
              "      <td>9.0</td>\n",
              "      <td>111</td>\n",
              "      <td>5000</td>\n",
              "      <td>21</td>\n",
              "      <td>27</td>\n",
              "      <td>16500</td>\n",
              "      <td>0</td>\n",
              "      <td>0</td>\n",
              "      <td>0</td>\n",
              "      <td>1</td>\n",
              "    </tr>\n",
              "    <tr>\n",
              "      <th>1</th>\n",
              "      <td>0</td>\n",
              "      <td>1</td>\n",
              "      <td>0</td>\n",
              "      <td>1</td>\n",
              "      <td>0</td>\n",
              "      <td>0</td>\n",
              "      <td>1</td>\n",
              "      <td>115.0</td>\n",
              "      <td>2.0</td>\n",
              "      <td>94.5</td>\n",
              "      <td>...</td>\n",
              "      <td>9.0</td>\n",
              "      <td>154</td>\n",
              "      <td>5000</td>\n",
              "      <td>19</td>\n",
              "      <td>26</td>\n",
              "      <td>16500</td>\n",
              "      <td>0</td>\n",
              "      <td>0</td>\n",
              "      <td>0</td>\n",
              "      <td>1</td>\n",
              "    </tr>\n",
              "    <tr>\n",
              "      <th>2</th>\n",
              "      <td>1</td>\n",
              "      <td>0</td>\n",
              "      <td>0</td>\n",
              "      <td>0</td>\n",
              "      <td>1</td>\n",
              "      <td>0</td>\n",
              "      <td>2</td>\n",
              "      <td>164</td>\n",
              "      <td>4.0</td>\n",
              "      <td>99.8</td>\n",
              "      <td>...</td>\n",
              "      <td>10.0</td>\n",
              "      <td>102</td>\n",
              "      <td>5500</td>\n",
              "      <td>24</td>\n",
              "      <td>30</td>\n",
              "      <td>13950</td>\n",
              "      <td>1</td>\n",
              "      <td>0</td>\n",
              "      <td>0</td>\n",
              "      <td>1</td>\n",
              "    </tr>\n",
              "    <tr>\n",
              "      <th>3</th>\n",
              "      <td>0</td>\n",
              "      <td>0</td>\n",
              "      <td>0</td>\n",
              "      <td>0</td>\n",
              "      <td>1</td>\n",
              "      <td>0</td>\n",
              "      <td>2</td>\n",
              "      <td>164</td>\n",
              "      <td>4.0</td>\n",
              "      <td>99.4</td>\n",
              "      <td>...</td>\n",
              "      <td>8.0</td>\n",
              "      <td>115</td>\n",
              "      <td>5500</td>\n",
              "      <td>18</td>\n",
              "      <td>22</td>\n",
              "      <td>17450</td>\n",
              "      <td>1</td>\n",
              "      <td>0</td>\n",
              "      <td>0</td>\n",
              "      <td>1</td>\n",
              "    </tr>\n",
              "    <tr>\n",
              "      <th>4</th>\n",
              "      <td>1</td>\n",
              "      <td>0</td>\n",
              "      <td>0</td>\n",
              "      <td>0</td>\n",
              "      <td>1</td>\n",
              "      <td>0</td>\n",
              "      <td>2</td>\n",
              "      <td>115.0</td>\n",
              "      <td>2.0</td>\n",
              "      <td>99.8</td>\n",
              "      <td>...</td>\n",
              "      <td>8.5</td>\n",
              "      <td>110</td>\n",
              "      <td>5500</td>\n",
              "      <td>19</td>\n",
              "      <td>25</td>\n",
              "      <td>15250</td>\n",
              "      <td>1</td>\n",
              "      <td>0</td>\n",
              "      <td>0</td>\n",
              "      <td>1</td>\n",
              "    </tr>\n",
              "  </tbody>\n",
              "</table>\n",
              "<p>5 rows × 30 columns</p>\n",
              "</div>"
            ],
            "text/plain": [
              "   fwd  rwd  hardtop  hatchback  sedan  wagon  symboling normalized_losses  \\\n",
              "0    0    1        0          0      0      0          3             115.0   \n",
              "1    0    1        0          1      0      0          1             115.0   \n",
              "2    1    0        0          0      1      0          2               164   \n",
              "3    0    0        0          0      1      0          2               164   \n",
              "4    1    0        0          0      1      0          2             115.0   \n",
              "\n",
              "   num_doors  wheel_base  ...  compression_ratio  horsepower  peak_rpm  \\\n",
              "0        2.0        88.6  ...                9.0         111      5000   \n",
              "1        2.0        94.5  ...                9.0         154      5000   \n",
              "2        4.0        99.8  ...               10.0         102      5500   \n",
              "3        4.0        99.4  ...                8.0         115      5500   \n",
              "4        2.0        99.8  ...                8.5         110      5500   \n",
              "\n",
              "   city_mpg  highway_mpg  price  make  aspiration engine_location fuel_type  \n",
              "0        21           27  16500     0           0               0         1  \n",
              "1        19           26  16500     0           0               0         1  \n",
              "2        24           30  13950     1           0               0         1  \n",
              "3        18           22  17450     1           0               0         1  \n",
              "4        19           25  15250     1           0               0         1  \n",
              "\n",
              "[5 rows x 30 columns]"
            ]
          },
          "execution_count": 74,
          "metadata": {},
          "output_type": "execute_result"
        }
      ],
      "source": [
        "data_new_1.head()"
      ]
    },
    {
      "cell_type": "markdown",
      "id": "559836cb",
      "metadata": {
        "id": "559836cb"
      },
      "source": [
        "## MULTIPLE REGRESSION "
      ]
    },
    {
      "cell_type": "code",
      "execution_count": null,
      "id": "2abcda46",
      "metadata": {
        "id": "2abcda46"
      },
      "outputs": [],
      "source": [
        "from sklearn.linear_model import LinearRegression"
      ]
    },
    {
      "cell_type": "code",
      "execution_count": null,
      "id": "9a999b80",
      "metadata": {
        "id": "9a999b80"
      },
      "outputs": [],
      "source": [
        "from sklearn.model_selection import train_test_split"
      ]
    },
    {
      "cell_type": "code",
      "execution_count": null,
      "id": "5403ffef",
      "metadata": {
        "id": "5403ffef"
      },
      "outputs": [],
      "source": [
        "A = data_new_1.drop(['price'],axis=1)\n",
        "B = data_new_1.price"
      ]
    },
    {
      "cell_type": "code",
      "execution_count": null,
      "id": "c8264b7e",
      "metadata": {
        "id": "c8264b7e"
      },
      "outputs": [],
      "source": [
        "A_train,A_test,B_train,B_test = train_test_split(A,B,test_size=0.30,random_state=42)"
      ]
    },
    {
      "cell_type": "code",
      "execution_count": null,
      "id": "ee5fb640",
      "metadata": {
        "id": "ee5fb640"
      },
      "outputs": [],
      "source": [
        "lr = LinearRegression()"
      ]
    },
    {
      "cell_type": "code",
      "execution_count": null,
      "id": "c849df11",
      "metadata": {
        "id": "c849df11",
        "outputId": "999e0e5a-f478-47cc-9135-9b4731ebda6a"
      },
      "outputs": [
        {
          "data": {
            "text/html": [
              "<style>#sk-container-id-1 {color: black;background-color: white;}#sk-container-id-1 pre{padding: 0;}#sk-container-id-1 div.sk-toggleable {background-color: white;}#sk-container-id-1 label.sk-toggleable__label {cursor: pointer;display: block;width: 100%;margin-bottom: 0;padding: 0.3em;box-sizing: border-box;text-align: center;}#sk-container-id-1 label.sk-toggleable__label-arrow:before {content: \"▸\";float: left;margin-right: 0.25em;color: #696969;}#sk-container-id-1 label.sk-toggleable__label-arrow:hover:before {color: black;}#sk-container-id-1 div.sk-estimator:hover label.sk-toggleable__label-arrow:before {color: black;}#sk-container-id-1 div.sk-toggleable__content {max-height: 0;max-width: 0;overflow: hidden;text-align: left;background-color: #f0f8ff;}#sk-container-id-1 div.sk-toggleable__content pre {margin: 0.2em;color: black;border-radius: 0.25em;background-color: #f0f8ff;}#sk-container-id-1 input.sk-toggleable__control:checked~div.sk-toggleable__content {max-height: 200px;max-width: 100%;overflow: auto;}#sk-container-id-1 input.sk-toggleable__control:checked~label.sk-toggleable__label-arrow:before {content: \"▾\";}#sk-container-id-1 div.sk-estimator input.sk-toggleable__control:checked~label.sk-toggleable__label {background-color: #d4ebff;}#sk-container-id-1 div.sk-label input.sk-toggleable__control:checked~label.sk-toggleable__label {background-color: #d4ebff;}#sk-container-id-1 input.sk-hidden--visually {border: 0;clip: rect(1px 1px 1px 1px);clip: rect(1px, 1px, 1px, 1px);height: 1px;margin: -1px;overflow: hidden;padding: 0;position: absolute;width: 1px;}#sk-container-id-1 div.sk-estimator {font-family: monospace;background-color: #f0f8ff;border: 1px dotted black;border-radius: 0.25em;box-sizing: border-box;margin-bottom: 0.5em;}#sk-container-id-1 div.sk-estimator:hover {background-color: #d4ebff;}#sk-container-id-1 div.sk-parallel-item::after {content: \"\";width: 100%;border-bottom: 1px solid gray;flex-grow: 1;}#sk-container-id-1 div.sk-label:hover label.sk-toggleable__label {background-color: #d4ebff;}#sk-container-id-1 div.sk-serial::before {content: \"\";position: absolute;border-left: 1px solid gray;box-sizing: border-box;top: 0;bottom: 0;left: 50%;z-index: 0;}#sk-container-id-1 div.sk-serial {display: flex;flex-direction: column;align-items: center;background-color: white;padding-right: 0.2em;padding-left: 0.2em;position: relative;}#sk-container-id-1 div.sk-item {position: relative;z-index: 1;}#sk-container-id-1 div.sk-parallel {display: flex;align-items: stretch;justify-content: center;background-color: white;position: relative;}#sk-container-id-1 div.sk-item::before, #sk-container-id-1 div.sk-parallel-item::before {content: \"\";position: absolute;border-left: 1px solid gray;box-sizing: border-box;top: 0;bottom: 0;left: 50%;z-index: -1;}#sk-container-id-1 div.sk-parallel-item {display: flex;flex-direction: column;z-index: 1;position: relative;background-color: white;}#sk-container-id-1 div.sk-parallel-item:first-child::after {align-self: flex-end;width: 50%;}#sk-container-id-1 div.sk-parallel-item:last-child::after {align-self: flex-start;width: 50%;}#sk-container-id-1 div.sk-parallel-item:only-child::after {width: 0;}#sk-container-id-1 div.sk-dashed-wrapped {border: 1px dashed gray;margin: 0 0.4em 0.5em 0.4em;box-sizing: border-box;padding-bottom: 0.4em;background-color: white;}#sk-container-id-1 div.sk-label label {font-family: monospace;font-weight: bold;display: inline-block;line-height: 1.2em;}#sk-container-id-1 div.sk-label-container {text-align: center;}#sk-container-id-1 div.sk-container {/* jupyter's `normalize.less` sets `[hidden] { display: none; }` but bootstrap.min.css set `[hidden] { display: none !important; }` so we also need the `!important` here to be able to override the default hidden behavior on the sphinx rendered scikit-learn.org. See: https://github.com/scikit-learn/scikit-learn/issues/21755 */display: inline-block !important;position: relative;}#sk-container-id-1 div.sk-text-repr-fallback {display: none;}</style><div id=\"sk-container-id-1\" class=\"sk-top-container\"><div class=\"sk-text-repr-fallback\"><pre>LinearRegression()</pre><b>In a Jupyter environment, please rerun this cell to show the HTML representation or trust the notebook. <br />On GitHub, the HTML representation is unable to render, please try loading this page with nbviewer.org.</b></div><div class=\"sk-container\" hidden><div class=\"sk-item\"><div class=\"sk-estimator sk-toggleable\"><input class=\"sk-toggleable__control sk-hidden--visually\" id=\"sk-estimator-id-1\" type=\"checkbox\" checked><label for=\"sk-estimator-id-1\" class=\"sk-toggleable__label sk-toggleable__label-arrow\">LinearRegression</label><div class=\"sk-toggleable__content\"><pre>LinearRegression()</pre></div></div></div></div></div>"
            ],
            "text/plain": [
              "LinearRegression()"
            ]
          },
          "execution_count": 81,
          "metadata": {},
          "output_type": "execute_result"
        }
      ],
      "source": [
        "lr.fit(A_train,B_train)"
      ]
    },
    {
      "cell_type": "code",
      "execution_count": null,
      "id": "1d344778",
      "metadata": {
        "id": "1d344778",
        "outputId": "96bb3141-42b5-46f8-fd18-dfafd29f7022"
      },
      "outputs": [
        {
          "data": {
            "text/plain": [
              "array([ 9053.188868  , 33004.90361893,  6411.82259784,  7936.46052972,\n",
              "       13195.2311545 ,  7013.01375412, 42656.89685853,  8486.20729321,\n",
              "       20615.92611445, 47908.7048339 , 28962.0854159 ,  9136.03948632,\n",
              "       13440.49776108, 14689.43179772, 13502.00264935,  9316.89700647,\n",
              "       11389.09989389,  5454.103567  , 10404.23996751, 31621.69088717,\n",
              "       38526.39083728, -2232.05795837,  3500.95353944,  5749.16304812,\n",
              "       25058.13230615, 10209.39469462,  9810.54889248, 32512.79064861,\n",
              "        8791.07412978, 13773.51043137, 15367.91717058,  7844.89773947,\n",
              "       11076.29855661,  6986.52112927,  5549.99773089, 17598.43660378,\n",
              "        8091.73027462,  7802.36577647, 14673.16588199, 10837.53834394,\n",
              "       14510.1568195 , 23039.27926922,  7910.32980263,  7986.4771438 ,\n",
              "       34028.        , 19769.68865379,  6874.4097275 ,  6725.79607768,\n",
              "       10603.39046248,  7306.55174381,  5156.9214149 , 20457.93897965,\n",
              "       21056.0670834 , 10104.43691976,  6175.80575127,  7320.13449316,\n",
              "       11279.95457921, 17635.28861597,  8409.99701009, 10245.01843049])"
            ]
          },
          "execution_count": 83,
          "metadata": {},
          "output_type": "execute_result"
        }
      ],
      "source": [
        "pred = lr.predict(A_test)\n",
        "pred"
      ]
    },
    {
      "cell_type": "code",
      "execution_count": null,
      "id": "486f4b9a",
      "metadata": {
        "id": "486f4b9a"
      },
      "outputs": [],
      "source": [
        "from sklearn.metrics import r2_score"
      ]
    },
    {
      "cell_type": "markdown",
      "id": "0993b733",
      "metadata": {
        "id": "0993b733"
      },
      "source": [
        "## MODEL ACCURACY "
      ]
    },
    {
      "cell_type": "code",
      "execution_count": null,
      "id": "20080f69",
      "metadata": {
        "id": "20080f69",
        "outputId": "d72c77eb-e6da-4519-b112-c448c7b3077a"
      },
      "outputs": [
        {
          "name": "stdout",
          "output_type": "stream",
          "text": [
            "0.9222416356188425\n"
          ]
        }
      ],
      "source": [
        "print(r2_score(pred,B_test))"
      ]
    },
    {
      "cell_type": "markdown",
      "id": "f2b173c1",
      "metadata": {
        "id": "f2b173c1"
      },
      "source": [
        "## PRINCIPAL COMPONENT ANALYSIS"
      ]
    },
    {
      "cell_type": "code",
      "execution_count": null,
      "id": "7455f6f2",
      "metadata": {
        "id": "7455f6f2"
      },
      "outputs": [],
      "source": [
        "from sklearn.preprocessing import StandardScaler\n",
        "scaler = StandardScaler()"
      ]
    },
    {
      "cell_type": "code",
      "execution_count": null,
      "id": "446a4787",
      "metadata": {
        "id": "446a4787",
        "outputId": "68216837-2e4c-40db-9aa9-f7e86b423243"
      },
      "outputs": [
        {
          "data": {
            "text/html": [
              "<style>#sk-container-id-4 {color: black;background-color: white;}#sk-container-id-4 pre{padding: 0;}#sk-container-id-4 div.sk-toggleable {background-color: white;}#sk-container-id-4 label.sk-toggleable__label {cursor: pointer;display: block;width: 100%;margin-bottom: 0;padding: 0.3em;box-sizing: border-box;text-align: center;}#sk-container-id-4 label.sk-toggleable__label-arrow:before {content: \"▸\";float: left;margin-right: 0.25em;color: #696969;}#sk-container-id-4 label.sk-toggleable__label-arrow:hover:before {color: black;}#sk-container-id-4 div.sk-estimator:hover label.sk-toggleable__label-arrow:before {color: black;}#sk-container-id-4 div.sk-toggleable__content {max-height: 0;max-width: 0;overflow: hidden;text-align: left;background-color: #f0f8ff;}#sk-container-id-4 div.sk-toggleable__content pre {margin: 0.2em;color: black;border-radius: 0.25em;background-color: #f0f8ff;}#sk-container-id-4 input.sk-toggleable__control:checked~div.sk-toggleable__content {max-height: 200px;max-width: 100%;overflow: auto;}#sk-container-id-4 input.sk-toggleable__control:checked~label.sk-toggleable__label-arrow:before {content: \"▾\";}#sk-container-id-4 div.sk-estimator input.sk-toggleable__control:checked~label.sk-toggleable__label {background-color: #d4ebff;}#sk-container-id-4 div.sk-label input.sk-toggleable__control:checked~label.sk-toggleable__label {background-color: #d4ebff;}#sk-container-id-4 input.sk-hidden--visually {border: 0;clip: rect(1px 1px 1px 1px);clip: rect(1px, 1px, 1px, 1px);height: 1px;margin: -1px;overflow: hidden;padding: 0;position: absolute;width: 1px;}#sk-container-id-4 div.sk-estimator {font-family: monospace;background-color: #f0f8ff;border: 1px dotted black;border-radius: 0.25em;box-sizing: border-box;margin-bottom: 0.5em;}#sk-container-id-4 div.sk-estimator:hover {background-color: #d4ebff;}#sk-container-id-4 div.sk-parallel-item::after {content: \"\";width: 100%;border-bottom: 1px solid gray;flex-grow: 1;}#sk-container-id-4 div.sk-label:hover label.sk-toggleable__label {background-color: #d4ebff;}#sk-container-id-4 div.sk-serial::before {content: \"\";position: absolute;border-left: 1px solid gray;box-sizing: border-box;top: 0;bottom: 0;left: 50%;z-index: 0;}#sk-container-id-4 div.sk-serial {display: flex;flex-direction: column;align-items: center;background-color: white;padding-right: 0.2em;padding-left: 0.2em;position: relative;}#sk-container-id-4 div.sk-item {position: relative;z-index: 1;}#sk-container-id-4 div.sk-parallel {display: flex;align-items: stretch;justify-content: center;background-color: white;position: relative;}#sk-container-id-4 div.sk-item::before, #sk-container-id-4 div.sk-parallel-item::before {content: \"\";position: absolute;border-left: 1px solid gray;box-sizing: border-box;top: 0;bottom: 0;left: 50%;z-index: -1;}#sk-container-id-4 div.sk-parallel-item {display: flex;flex-direction: column;z-index: 1;position: relative;background-color: white;}#sk-container-id-4 div.sk-parallel-item:first-child::after {align-self: flex-end;width: 50%;}#sk-container-id-4 div.sk-parallel-item:last-child::after {align-self: flex-start;width: 50%;}#sk-container-id-4 div.sk-parallel-item:only-child::after {width: 0;}#sk-container-id-4 div.sk-dashed-wrapped {border: 1px dashed gray;margin: 0 0.4em 0.5em 0.4em;box-sizing: border-box;padding-bottom: 0.4em;background-color: white;}#sk-container-id-4 div.sk-label label {font-family: monospace;font-weight: bold;display: inline-block;line-height: 1.2em;}#sk-container-id-4 div.sk-label-container {text-align: center;}#sk-container-id-4 div.sk-container {/* jupyter's `normalize.less` sets `[hidden] { display: none; }` but bootstrap.min.css set `[hidden] { display: none !important; }` so we also need the `!important` here to be able to override the default hidden behavior on the sphinx rendered scikit-learn.org. See: https://github.com/scikit-learn/scikit-learn/issues/21755 */display: inline-block !important;position: relative;}#sk-container-id-4 div.sk-text-repr-fallback {display: none;}</style><div id=\"sk-container-id-4\" class=\"sk-top-container\"><div class=\"sk-text-repr-fallback\"><pre>StandardScaler()</pre><b>In a Jupyter environment, please rerun this cell to show the HTML representation or trust the notebook. <br />On GitHub, the HTML representation is unable to render, please try loading this page with nbviewer.org.</b></div><div class=\"sk-container\" hidden><div class=\"sk-item\"><div class=\"sk-estimator sk-toggleable\"><input class=\"sk-toggleable__control sk-hidden--visually\" id=\"sk-estimator-id-4\" type=\"checkbox\" checked><label for=\"sk-estimator-id-4\" class=\"sk-toggleable__label sk-toggleable__label-arrow\">StandardScaler</label><div class=\"sk-toggleable__content\"><pre>StandardScaler()</pre></div></div></div></div></div>"
            ],
            "text/plain": [
              "StandardScaler()"
            ]
          },
          "execution_count": 103,
          "metadata": {},
          "output_type": "execute_result"
        }
      ],
      "source": [
        "scaler.fit(A)"
      ]
    },
    {
      "cell_type": "code",
      "execution_count": null,
      "id": "7e83635c",
      "metadata": {
        "id": "7e83635c"
      },
      "outputs": [],
      "source": [
        "scaled_data_new = scaler.transform(A)\n"
      ]
    },
    {
      "cell_type": "code",
      "execution_count": null,
      "id": "ecf0ecfd",
      "metadata": {
        "id": "ecf0ecfd"
      },
      "outputs": [],
      "source": [
        "from sklearn.decomposition import PCA"
      ]
    },
    {
      "cell_type": "code",
      "execution_count": null,
      "id": "d59bf278",
      "metadata": {
        "id": "d59bf278"
      },
      "outputs": [],
      "source": [
        "pca = PCA(n_components=2)"
      ]
    },
    {
      "cell_type": "code",
      "execution_count": null,
      "id": "1456b1f7",
      "metadata": {
        "id": "1456b1f7",
        "outputId": "4687dc57-0fba-437c-ecfc-508919b499db"
      },
      "outputs": [
        {
          "data": {
            "text/html": [
              "<style>#sk-container-id-5 {color: black;background-color: white;}#sk-container-id-5 pre{padding: 0;}#sk-container-id-5 div.sk-toggleable {background-color: white;}#sk-container-id-5 label.sk-toggleable__label {cursor: pointer;display: block;width: 100%;margin-bottom: 0;padding: 0.3em;box-sizing: border-box;text-align: center;}#sk-container-id-5 label.sk-toggleable__label-arrow:before {content: \"▸\";float: left;margin-right: 0.25em;color: #696969;}#sk-container-id-5 label.sk-toggleable__label-arrow:hover:before {color: black;}#sk-container-id-5 div.sk-estimator:hover label.sk-toggleable__label-arrow:before {color: black;}#sk-container-id-5 div.sk-toggleable__content {max-height: 0;max-width: 0;overflow: hidden;text-align: left;background-color: #f0f8ff;}#sk-container-id-5 div.sk-toggleable__content pre {margin: 0.2em;color: black;border-radius: 0.25em;background-color: #f0f8ff;}#sk-container-id-5 input.sk-toggleable__control:checked~div.sk-toggleable__content {max-height: 200px;max-width: 100%;overflow: auto;}#sk-container-id-5 input.sk-toggleable__control:checked~label.sk-toggleable__label-arrow:before {content: \"▾\";}#sk-container-id-5 div.sk-estimator input.sk-toggleable__control:checked~label.sk-toggleable__label {background-color: #d4ebff;}#sk-container-id-5 div.sk-label input.sk-toggleable__control:checked~label.sk-toggleable__label {background-color: #d4ebff;}#sk-container-id-5 input.sk-hidden--visually {border: 0;clip: rect(1px 1px 1px 1px);clip: rect(1px, 1px, 1px, 1px);height: 1px;margin: -1px;overflow: hidden;padding: 0;position: absolute;width: 1px;}#sk-container-id-5 div.sk-estimator {font-family: monospace;background-color: #f0f8ff;border: 1px dotted black;border-radius: 0.25em;box-sizing: border-box;margin-bottom: 0.5em;}#sk-container-id-5 div.sk-estimator:hover {background-color: #d4ebff;}#sk-container-id-5 div.sk-parallel-item::after {content: \"\";width: 100%;border-bottom: 1px solid gray;flex-grow: 1;}#sk-container-id-5 div.sk-label:hover label.sk-toggleable__label {background-color: #d4ebff;}#sk-container-id-5 div.sk-serial::before {content: \"\";position: absolute;border-left: 1px solid gray;box-sizing: border-box;top: 0;bottom: 0;left: 50%;z-index: 0;}#sk-container-id-5 div.sk-serial {display: flex;flex-direction: column;align-items: center;background-color: white;padding-right: 0.2em;padding-left: 0.2em;position: relative;}#sk-container-id-5 div.sk-item {position: relative;z-index: 1;}#sk-container-id-5 div.sk-parallel {display: flex;align-items: stretch;justify-content: center;background-color: white;position: relative;}#sk-container-id-5 div.sk-item::before, #sk-container-id-5 div.sk-parallel-item::before {content: \"\";position: absolute;border-left: 1px solid gray;box-sizing: border-box;top: 0;bottom: 0;left: 50%;z-index: -1;}#sk-container-id-5 div.sk-parallel-item {display: flex;flex-direction: column;z-index: 1;position: relative;background-color: white;}#sk-container-id-5 div.sk-parallel-item:first-child::after {align-self: flex-end;width: 50%;}#sk-container-id-5 div.sk-parallel-item:last-child::after {align-self: flex-start;width: 50%;}#sk-container-id-5 div.sk-parallel-item:only-child::after {width: 0;}#sk-container-id-5 div.sk-dashed-wrapped {border: 1px dashed gray;margin: 0 0.4em 0.5em 0.4em;box-sizing: border-box;padding-bottom: 0.4em;background-color: white;}#sk-container-id-5 div.sk-label label {font-family: monospace;font-weight: bold;display: inline-block;line-height: 1.2em;}#sk-container-id-5 div.sk-label-container {text-align: center;}#sk-container-id-5 div.sk-container {/* jupyter's `normalize.less` sets `[hidden] { display: none; }` but bootstrap.min.css set `[hidden] { display: none !important; }` so we also need the `!important` here to be able to override the default hidden behavior on the sphinx rendered scikit-learn.org. See: https://github.com/scikit-learn/scikit-learn/issues/21755 */display: inline-block !important;position: relative;}#sk-container-id-5 div.sk-text-repr-fallback {display: none;}</style><div id=\"sk-container-id-5\" class=\"sk-top-container\"><div class=\"sk-text-repr-fallback\"><pre>PCA(n_components=2)</pre><b>In a Jupyter environment, please rerun this cell to show the HTML representation or trust the notebook. <br />On GitHub, the HTML representation is unable to render, please try loading this page with nbviewer.org.</b></div><div class=\"sk-container\" hidden><div class=\"sk-item\"><div class=\"sk-estimator sk-toggleable\"><input class=\"sk-toggleable__control sk-hidden--visually\" id=\"sk-estimator-id-5\" type=\"checkbox\" checked><label for=\"sk-estimator-id-5\" class=\"sk-toggleable__label sk-toggleable__label-arrow\">PCA</label><div class=\"sk-toggleable__content\"><pre>PCA(n_components=2)</pre></div></div></div></div></div>"
            ],
            "text/plain": [
              "PCA(n_components=2)"
            ]
          },
          "execution_count": 107,
          "metadata": {},
          "output_type": "execute_result"
        }
      ],
      "source": [
        "pca.fit(A)"
      ]
    },
    {
      "cell_type": "code",
      "execution_count": null,
      "id": "bfd6b4bb",
      "metadata": {
        "id": "bfd6b4bb"
      },
      "outputs": [],
      "source": [
        "A_pca = pca.transform(A)"
      ]
    },
    {
      "cell_type": "code",
      "execution_count": null,
      "id": "4880a2f3",
      "metadata": {
        "id": "4880a2f3",
        "outputId": "f9a49d75-3d64-440b-9268-2615e9c47d67"
      },
      "outputs": [
        {
          "data": {
            "text/plain": [
              "array([[   65.28201623,   -99.40622505],\n",
              "       [  287.6935059 ,    67.40302108],\n",
              "       [ -403.63193505,   175.4365375 ],\n",
              "       [  -12.65164442,   466.67876523],\n",
              "       [ -265.81335439,   277.03019868],\n",
              "       [    3.50300836,   478.31275784],\n",
              "       [   91.5463473 ,   542.7541878 ],\n",
              "       [  197.5572097 ,   623.69683557],\n",
              "       [ -536.84651169,   450.66487317],\n",
              "       [ -536.84418318,   450.66406567],\n",
              "       [  645.20562351,  -600.27640568],\n",
              "       [  689.13596947,  -567.60664076],\n",
              "       [  921.33841949,  -396.67974842],\n",
              "       [  378.14895698,   633.67883581],\n",
              "       [  498.03746646,   722.83667695],\n",
              "       [  598.01722805,   797.18201009],\n",
              "       [ -847.87117018,  -656.08662803],\n",
              "       [ -716.05725664,  -184.20899856],\n",
              "       [ -687.97736464,  -163.7416793 ],\n",
              "       [ -774.36052084,  -102.59023924],\n",
              "       [ -774.30708518,  -102.49857205],\n",
              "       [ -571.37005157,    49.65338531],\n",
              "       [ -701.75204483,   -47.81770127],\n",
              "       [ -684.17990102,   -34.74955125],\n",
              "       [ -684.17990102,   -34.74955125],\n",
              "       [ -521.17868682,    87.70235734],\n",
              "       [   53.92178166,  -108.85157585],\n",
              "       [  277.95623804,    60.57328711],\n",
              "       [ -486.79202233,  -760.5634429 ],\n",
              "       [-1118.73611286,   264.8529218 ],\n",
              "       [ -806.44262313,  -127.11768321],\n",
              "       [-1021.7504532 ,   336.1120862 ],\n",
              "       [-1008.97099099,   345.61610181],\n",
              "       [ -965.62085245,   378.04154955],\n",
              "       [ -954.4037604 ,   385.61553523],\n",
              "       [ -664.10421813,   353.40619662],\n",
              "       [ -621.77224955,   384.88824832],\n",
              "       [ -609.56297122,   393.44882878],\n",
              "       [ -555.25786581,   433.83530718],\n",
              "       [ -480.42095899,   490.04485187],\n",
              "       [ -438.71314883,   147.90520107],\n",
              "       [   14.23419788,  -387.62264798],\n",
              "       [  212.64836534,     9.41990834],\n",
              "       [ 1437.14951834,   612.06988368],\n",
              "       [ 1437.27828371,   611.44288375],\n",
              "       [ 1201.58985364,   750.36032086],\n",
              "       [ -463.99870919,  -494.78213771],\n",
              "       [ -456.06377814,  -488.92489903],\n",
              "       [ -452.0701962 ,  -485.95489415],\n",
              "       [ -420.02653105,  -461.91928231],\n",
              "       [ -416.0329347 ,  -458.94927007],\n",
              "       [ -670.42370861,   599.56724685],\n",
              "       [ -670.42370861,   599.56724685],\n",
              "       [ -666.43012667,   602.53725173],\n",
              "       [ -572.88946582,   673.24055066],\n",
              "       [   53.46077803,  -357.98864848],\n",
              "       [   73.49376998,  -343.43228091],\n",
              "       [   53.46077803,  -357.98864848],\n",
              "       [   73.49376998,  -343.43228091],\n",
              "       [  188.77450749,  -445.37642345],\n",
              "       [   85.47413254,  -334.52239484],\n",
              "       [  163.84018816,   -25.82803774],\n",
              "       [  664.04889761,  -652.1011047 ],\n",
              "       [ 1230.29935707,   -42.97742327],\n",
              "       [ 1418.00131319,    96.61204963],\n",
              "       [ 1214.23552078,   -54.90666974],\n",
              "       [ 1434.22203621,   108.64871666],\n",
              "       [ 1174.96358546,   415.67398425],\n",
              "       [ 1130.36464812,   383.24821515],\n",
              "       [ 1457.43448705,   315.20371592],\n",
              "       [ 1309.22280492,   205.02650661],\n",
              "       [  357.43977166,   119.95372832],\n",
              "       [ -740.87817978,   -76.68308714],\n",
              "       [ -720.05809443,   -61.14742163],\n",
              "       [ -672.13511113,   -25.5073631 ],\n",
              "       [ -557.97309323,    60.62792718],\n",
              "       [ -376.79633913,   195.60432815],\n",
              "       [ -111.70985845,  -230.99742512],\n",
              "       [  295.66602889,    72.99520899],\n",
              "       [  365.95307395,   125.26729631],\n",
              "       [  369.94665589,   128.23730118],\n",
              "       [  -82.04113693,  -209.61287536],\n",
              "       [  -50.0924814 ,  -185.85283634],\n",
              "       [ -350.32248317,   214.61287401],\n",
              "       [ -350.37283069,   214.86309791],\n",
              "       [ -584.02569378,  -334.41691525],\n",
              "       [ -242.92110403,  -579.63103233],\n",
              "       [ -560.86291852,  -317.19088696],\n",
              "       [ -544.86189307,  -305.43655618],\n",
              "       [ -476.00821268,  -254.69342917],\n",
              "       [ -534.5052777 ,  -297.58885477],\n",
              "       [ -473.00132535,  -251.84706909],\n",
              "       [ -518.50425226,  -285.83452399],\n",
              "       [ -465.62489963,  -246.97141649],\n",
              "       [ -489.19786624,  -262.92500031],\n",
              "       [ -234.08103409,   -73.77076429],\n",
              "       [ -251.65241138,   -86.83865719],\n",
              "       [  387.14711237,   390.60040732],\n",
              "       [  547.82640515,   509.60927659],\n",
              "       [  359.29656402,   369.37406261],\n",
              "       [  367.65914485,   377.99065887],\n",
              "       [  423.32268052,   420.7712026 ],\n",
              "       [  422.01242455,   419.27216202],\n",
              "       [  441.59989094,   181.00765715],\n",
              "       [ 1092.7620635 ,  -393.68548896],\n",
              "       [  609.79169149,   304.94686073],\n",
              "       [ 1279.39439357,  -255.97094516],\n",
              "       [  485.46276039,   213.56044621],\n",
              "       [ 1136.69146486,  -361.01543531],\n",
              "       [  653.65125881,   337.50035788],\n",
              "       [ 1323.32379493,  -223.30089151],\n",
              "       [  485.5292923 ,   213.6777108 ],\n",
              "       [ 1136.69146486,  -361.01543531],\n",
              "       [  173.02356891,   730.06955358],\n",
              "       [ -740.8054996 ,   -77.64854924],\n",
              "       [ -571.36135816,    49.64639806],\n",
              "       [ -701.7645492 ,   -47.71957929],\n",
              "       [ -684.02024224,   -34.53769098],\n",
              "       [ -522.23726372,    85.76241663],\n",
              "       [   54.08955168,  -109.63125232],\n",
              "       [  283.6902001 ,    64.07791638],\n",
              "       [  -47.92007513,   441.83674673],\n",
              "       [ -299.84154998,   753.07964653],\n",
              "       [ -299.84154998,   753.07964653],\n",
              "       [ -264.69806127,   779.21567015],\n",
              "       [  -29.66649334,    78.38988202],\n",
              "       [ -124.80466753,     7.65280302],\n",
              "       [    3.42383753,   166.65750337],\n",
              "       [   33.17578036,   187.67374704],\n",
              "       [   42.56054411,   195.76337849],\n",
              "       [   83.49491282,   225.09580849],\n",
              "       [  -24.54416087,   458.94854231],\n",
              "       [    6.80523833,   481.15276089],\n",
              "       [ -276.02653502,  -480.08885119],\n",
              "       [   79.6246255 ,  -838.16747482],\n",
              "       [  175.46138933,  -766.8954662 ],\n",
              "       [ -139.1225266 ,  -501.99200209],\n",
              "       [  136.00606092,  -795.52964937],\n",
              "       [ -222.04565569,   -64.99461559],\n",
              "       [   52.69465934,  -359.22607228],\n",
              "       [  153.46845222,  -283.31372871],\n",
              "       [  -23.17344305,  -416.02375164],\n",
              "       [ -130.1002766 ,     3.08047308],\n",
              "       [   80.72926381,  -338.8051273 ],\n",
              "       [  265.43492818,  -200.41883867],\n",
              "       [ -268.67654384,  -599.35501742],\n",
              "       [ -224.71816805,  -566.63425459],\n",
              "       [ -244.62933483,  -581.75626769],\n",
              "       [  -32.77804451,  -424.14947179],\n",
              "       [  -24.75193458,  -418.03318966],\n",
              "       [  630.15258206,    69.25661023],\n",
              "       [ -191.24580189,  -541.38508449],\n",
              "       [ -168.88245649,  -524.75311493],\n",
              "       [  143.27294982,  -666.83028491],\n",
              "       [  143.1766112 ,  -666.98489446],\n",
              "       [ -180.97375827,  -533.84756425],\n",
              "       [ -158.46799355,  -516.979787  ],\n",
              "       [ -144.0907153 ,  -506.28764088],\n",
              "       [ -121.23464553,  -487.43862038],\n",
              "       [  -93.2799552 ,  -466.6487148 ],\n",
              "       [-1119.22916246,  1013.70191171],\n",
              "       [-1091.27447213,  1034.49181729],\n",
              "       [  179.63583069,  -263.01277689],\n",
              "       [  176.44096513,  -265.38878079],\n",
              "       [  188.42141632,  -256.47889625],\n",
              "       [  290.65740867,  -180.4466413 ],\n",
              "       [  318.61218762,  -159.65673724],\n",
              "       [  527.0790783 ,    -4.6227259 ],\n",
              "       [  365.56410685,  -874.52190463],\n",
              "       [  307.9525345 ,  -544.40274034],\n",
              "       [  435.87359951,  -822.20866232],\n",
              "       [  435.87563384,  -822.20888781],\n",
              "       [  471.0171206 ,  -796.0726194 ],\n",
              "       [  291.57672942,   321.45775392],\n",
              "       [  323.53096229,   345.22787417],\n",
              "       [  415.76170283,   411.04900579],\n",
              "       [  431.08144088,   423.07174084],\n",
              "       [  -48.2167278 ,  -435.04648195],\n",
              "       [ -356.91692275,  -102.87531376],\n",
              "       [  -45.69945303,  -433.8499677 ],\n",
              "       [ -354.39964797,  -101.67879951],\n",
              "       [ -304.08051551,   -64.25673806],\n",
              "       [  178.14144598,  -640.46278662],\n",
              "       [ -433.05384887,   151.71899503],\n",
              "       [ -470.43089184,   124.15002835],\n",
              "       [ -497.29151719,   107.56869599],\n",
              "       [ -142.71718201,   368.49975357],\n",
              "       [  385.94203664,  -485.39150018],\n",
              "       [ -223.24507375,   307.84334526],\n",
              "       [  118.14401825,   437.70943933],\n",
              "       [  215.71331777,   509.57128009],\n",
              "       [  136.50891784,   451.36138054],\n",
              "       [  222.09747154,   514.31320667],\n",
              "       [  404.78186062,   278.96185481],\n",
              "       [  494.36399626,   344.88368581],\n",
              "       [  150.16881754,   461.32324643],\n",
              "       [  288.99729639,   441.62332521],\n",
              "       [  140.80268207,   579.5764795 ],\n",
              "       [  720.51378385,   137.84063329],\n",
              "       [  238.07015011,   526.73488874]])"
            ]
          },
          "execution_count": 109,
          "metadata": {},
          "output_type": "execute_result"
        }
      ],
      "source": [
        "A_pca## We have reduces the dimensionality by "
      ]
    },
    {
      "cell_type": "code",
      "execution_count": null,
      "id": "469acf1b",
      "metadata": {
        "id": "469acf1b",
        "outputId": "281e9628-3919-4f4e-e1ce-eb632d82ce27"
      },
      "outputs": [
        {
          "data": {
            "text/plain": [
              "(200, 29)"
            ]
          },
          "execution_count": 111,
          "metadata": {},
          "output_type": "execute_result"
        }
      ],
      "source": [
        "A.shape"
      ]
    },
    {
      "cell_type": "code",
      "execution_count": null,
      "id": "4e0d9644",
      "metadata": {
        "id": "4e0d9644",
        "outputId": "23b3252f-0a7b-47a6-ef28-243f2092f6c9"
      },
      "outputs": [
        {
          "data": {
            "text/plain": [
              "(200, 2)"
            ]
          },
          "execution_count": 110,
          "metadata": {},
          "output_type": "execute_result"
        }
      ],
      "source": [
        "A_pca.shape"
      ]
    },
    {
      "cell_type": "code",
      "execution_count": null,
      "id": "20f2d6d3",
      "metadata": {
        "id": "20f2d6d3"
      },
      "outputs": [],
      "source": [
        "A_train_pca,A_test_pca,B_train_pca,B_test_pca = train_test_split(A_pca,B,test_size=0.30,random_state=100)"
      ]
    },
    {
      "cell_type": "code",
      "execution_count": null,
      "id": "5685d5b5",
      "metadata": {
        "id": "5685d5b5",
        "outputId": "6fdf123a-887d-4b1a-c278-528779ce7462"
      },
      "outputs": [
        {
          "data": {
            "text/html": [
              "<style>#sk-container-id-6 {color: black;background-color: white;}#sk-container-id-6 pre{padding: 0;}#sk-container-id-6 div.sk-toggleable {background-color: white;}#sk-container-id-6 label.sk-toggleable__label {cursor: pointer;display: block;width: 100%;margin-bottom: 0;padding: 0.3em;box-sizing: border-box;text-align: center;}#sk-container-id-6 label.sk-toggleable__label-arrow:before {content: \"▸\";float: left;margin-right: 0.25em;color: #696969;}#sk-container-id-6 label.sk-toggleable__label-arrow:hover:before {color: black;}#sk-container-id-6 div.sk-estimator:hover label.sk-toggleable__label-arrow:before {color: black;}#sk-container-id-6 div.sk-toggleable__content {max-height: 0;max-width: 0;overflow: hidden;text-align: left;background-color: #f0f8ff;}#sk-container-id-6 div.sk-toggleable__content pre {margin: 0.2em;color: black;border-radius: 0.25em;background-color: #f0f8ff;}#sk-container-id-6 input.sk-toggleable__control:checked~div.sk-toggleable__content {max-height: 200px;max-width: 100%;overflow: auto;}#sk-container-id-6 input.sk-toggleable__control:checked~label.sk-toggleable__label-arrow:before {content: \"▾\";}#sk-container-id-6 div.sk-estimator input.sk-toggleable__control:checked~label.sk-toggleable__label {background-color: #d4ebff;}#sk-container-id-6 div.sk-label input.sk-toggleable__control:checked~label.sk-toggleable__label {background-color: #d4ebff;}#sk-container-id-6 input.sk-hidden--visually {border: 0;clip: rect(1px 1px 1px 1px);clip: rect(1px, 1px, 1px, 1px);height: 1px;margin: -1px;overflow: hidden;padding: 0;position: absolute;width: 1px;}#sk-container-id-6 div.sk-estimator {font-family: monospace;background-color: #f0f8ff;border: 1px dotted black;border-radius: 0.25em;box-sizing: border-box;margin-bottom: 0.5em;}#sk-container-id-6 div.sk-estimator:hover {background-color: #d4ebff;}#sk-container-id-6 div.sk-parallel-item::after {content: \"\";width: 100%;border-bottom: 1px solid gray;flex-grow: 1;}#sk-container-id-6 div.sk-label:hover label.sk-toggleable__label {background-color: #d4ebff;}#sk-container-id-6 div.sk-serial::before {content: \"\";position: absolute;border-left: 1px solid gray;box-sizing: border-box;top: 0;bottom: 0;left: 50%;z-index: 0;}#sk-container-id-6 div.sk-serial {display: flex;flex-direction: column;align-items: center;background-color: white;padding-right: 0.2em;padding-left: 0.2em;position: relative;}#sk-container-id-6 div.sk-item {position: relative;z-index: 1;}#sk-container-id-6 div.sk-parallel {display: flex;align-items: stretch;justify-content: center;background-color: white;position: relative;}#sk-container-id-6 div.sk-item::before, #sk-container-id-6 div.sk-parallel-item::before {content: \"\";position: absolute;border-left: 1px solid gray;box-sizing: border-box;top: 0;bottom: 0;left: 50%;z-index: -1;}#sk-container-id-6 div.sk-parallel-item {display: flex;flex-direction: column;z-index: 1;position: relative;background-color: white;}#sk-container-id-6 div.sk-parallel-item:first-child::after {align-self: flex-end;width: 50%;}#sk-container-id-6 div.sk-parallel-item:last-child::after {align-self: flex-start;width: 50%;}#sk-container-id-6 div.sk-parallel-item:only-child::after {width: 0;}#sk-container-id-6 div.sk-dashed-wrapped {border: 1px dashed gray;margin: 0 0.4em 0.5em 0.4em;box-sizing: border-box;padding-bottom: 0.4em;background-color: white;}#sk-container-id-6 div.sk-label label {font-family: monospace;font-weight: bold;display: inline-block;line-height: 1.2em;}#sk-container-id-6 div.sk-label-container {text-align: center;}#sk-container-id-6 div.sk-container {/* jupyter's `normalize.less` sets `[hidden] { display: none; }` but bootstrap.min.css set `[hidden] { display: none !important; }` so we also need the `!important` here to be able to override the default hidden behavior on the sphinx rendered scikit-learn.org. See: https://github.com/scikit-learn/scikit-learn/issues/21755 */display: inline-block !important;position: relative;}#sk-container-id-6 div.sk-text-repr-fallback {display: none;}</style><div id=\"sk-container-id-6\" class=\"sk-top-container\"><div class=\"sk-text-repr-fallback\"><pre>LinearRegression()</pre><b>In a Jupyter environment, please rerun this cell to show the HTML representation or trust the notebook. <br />On GitHub, the HTML representation is unable to render, please try loading this page with nbviewer.org.</b></div><div class=\"sk-container\" hidden><div class=\"sk-item\"><div class=\"sk-estimator sk-toggleable\"><input class=\"sk-toggleable__control sk-hidden--visually\" id=\"sk-estimator-id-6\" type=\"checkbox\" checked><label for=\"sk-estimator-id-6\" class=\"sk-toggleable__label sk-toggleable__label-arrow\">LinearRegression</label><div class=\"sk-toggleable__content\"><pre>LinearRegression()</pre></div></div></div></div></div>"
            ],
            "text/plain": [
              "LinearRegression()"
            ]
          },
          "execution_count": 113,
          "metadata": {},
          "output_type": "execute_result"
        }
      ],
      "source": [
        "lr.fit(A_train_pca,B_train_pca)"
      ]
    },
    {
      "cell_type": "code",
      "execution_count": null,
      "id": "338e12e8",
      "metadata": {
        "id": "338e12e8"
      },
      "outputs": [],
      "source": [
        "pred_pca = lr.predict(A_test_pca)"
      ]
    },
    {
      "cell_type": "code",
      "execution_count": null,
      "id": "b08e3fbb",
      "metadata": {
        "id": "b08e3fbb",
        "outputId": "684e2f36-a19b-4773-9e1a-9710c55591d2"
      },
      "outputs": [
        {
          "name": "stdout",
          "output_type": "stream",
          "text": [
            "0.456742530801849\n"
          ]
        }
      ],
      "source": [
        "print(r2_score(pred_pca,B_test_pca))## Drastic Reduction in accuracy- no"
      ]
    },
    {
      "cell_type": "code",
      "execution_count": null,
      "id": "769b32e4",
      "metadata": {
        "id": "769b32e4"
      },
      "outputs": [],
      "source": []
    }
  ],
  "metadata": {
    "kernelspec": {
      "display_name": "Python 3 (ipykernel)",
      "language": "python",
      "name": "python3"
    },
    "language_info": {
      "codemirror_mode": {
        "name": "ipython",
        "version": 3
      },
      "file_extension": ".py",
      "mimetype": "text/x-python",
      "name": "python",
      "nbconvert_exporter": "python",
      "pygments_lexer": "ipython3",
      "version": "3.9.12"
    },
    "colab": {
      "provenance": [],
      "include_colab_link": true
    }
  },
  "nbformat": 4,
  "nbformat_minor": 5
}